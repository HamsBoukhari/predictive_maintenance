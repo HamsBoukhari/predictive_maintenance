{
 "cells": [
  {
   "cell_type": "code",
   "execution_count": 1,
   "id": "7a71078b",
   "metadata": {},
   "outputs": [],
   "source": [
    "import numpy as np\n",
    "import matplotlib.pyplot as plt\n",
    "import pandas as pd\n",
    "import seaborn as sns"
   ]
  },
  {
   "cell_type": "code",
   "execution_count": 2,
   "id": "fb3f09fc",
   "metadata": {},
   "outputs": [],
   "source": [
    "df=pd.read_csv('predictive_maintenance.csv')"
   ]
  },
  {
   "cell_type": "code",
   "execution_count": 3,
   "id": "56359ddb",
   "metadata": {},
   "outputs": [
    {
     "data": {
      "text/plain": [
       "(10000, 10)"
      ]
     },
     "execution_count": 3,
     "metadata": {},
     "output_type": "execute_result"
    }
   ],
   "source": [
    "df.shape"
   ]
  },
  {
   "cell_type": "code",
   "execution_count": 4,
   "id": "8515a55f",
   "metadata": {},
   "outputs": [
    {
     "data": {
      "text/html": [
       "<div>\n",
       "<style scoped>\n",
       "    .dataframe tbody tr th:only-of-type {\n",
       "        vertical-align: middle;\n",
       "    }\n",
       "\n",
       "    .dataframe tbody tr th {\n",
       "        vertical-align: top;\n",
       "    }\n",
       "\n",
       "    .dataframe thead th {\n",
       "        text-align: right;\n",
       "    }\n",
       "</style>\n",
       "<table border=\"1\" class=\"dataframe\">\n",
       "  <thead>\n",
       "    <tr style=\"text-align: right;\">\n",
       "      <th></th>\n",
       "      <th>UDI</th>\n",
       "      <th>Product ID</th>\n",
       "      <th>Type</th>\n",
       "      <th>Air temperature [K]</th>\n",
       "      <th>Process temperature [K]</th>\n",
       "      <th>Rotational speed [rpm]</th>\n",
       "      <th>Torque [Nm]</th>\n",
       "      <th>Tool wear [min]</th>\n",
       "      <th>Target</th>\n",
       "      <th>Failure Type</th>\n",
       "    </tr>\n",
       "  </thead>\n",
       "  <tbody>\n",
       "    <tr>\n",
       "      <th>0</th>\n",
       "      <td>1</td>\n",
       "      <td>M14860</td>\n",
       "      <td>M</td>\n",
       "      <td>298.1</td>\n",
       "      <td>308.6</td>\n",
       "      <td>1551</td>\n",
       "      <td>42.8</td>\n",
       "      <td>0</td>\n",
       "      <td>0</td>\n",
       "      <td>No Failure</td>\n",
       "    </tr>\n",
       "    <tr>\n",
       "      <th>1</th>\n",
       "      <td>2</td>\n",
       "      <td>L47181</td>\n",
       "      <td>L</td>\n",
       "      <td>298.2</td>\n",
       "      <td>308.7</td>\n",
       "      <td>1408</td>\n",
       "      <td>46.3</td>\n",
       "      <td>3</td>\n",
       "      <td>0</td>\n",
       "      <td>No Failure</td>\n",
       "    </tr>\n",
       "    <tr>\n",
       "      <th>2</th>\n",
       "      <td>3</td>\n",
       "      <td>L47182</td>\n",
       "      <td>L</td>\n",
       "      <td>298.1</td>\n",
       "      <td>308.5</td>\n",
       "      <td>1498</td>\n",
       "      <td>49.4</td>\n",
       "      <td>5</td>\n",
       "      <td>0</td>\n",
       "      <td>No Failure</td>\n",
       "    </tr>\n",
       "    <tr>\n",
       "      <th>3</th>\n",
       "      <td>4</td>\n",
       "      <td>L47183</td>\n",
       "      <td>L</td>\n",
       "      <td>298.2</td>\n",
       "      <td>308.6</td>\n",
       "      <td>1433</td>\n",
       "      <td>39.5</td>\n",
       "      <td>7</td>\n",
       "      <td>0</td>\n",
       "      <td>No Failure</td>\n",
       "    </tr>\n",
       "    <tr>\n",
       "      <th>4</th>\n",
       "      <td>5</td>\n",
       "      <td>L47184</td>\n",
       "      <td>L</td>\n",
       "      <td>298.2</td>\n",
       "      <td>308.7</td>\n",
       "      <td>1408</td>\n",
       "      <td>40.0</td>\n",
       "      <td>9</td>\n",
       "      <td>0</td>\n",
       "      <td>No Failure</td>\n",
       "    </tr>\n",
       "  </tbody>\n",
       "</table>\n",
       "</div>"
      ],
      "text/plain": [
       "   UDI Product ID Type  Air temperature [K]  Process temperature [K]  \\\n",
       "0    1     M14860    M                298.1                    308.6   \n",
       "1    2     L47181    L                298.2                    308.7   \n",
       "2    3     L47182    L                298.1                    308.5   \n",
       "3    4     L47183    L                298.2                    308.6   \n",
       "4    5     L47184    L                298.2                    308.7   \n",
       "\n",
       "   Rotational speed [rpm]  Torque [Nm]  Tool wear [min]  Target Failure Type  \n",
       "0                    1551         42.8                0       0   No Failure  \n",
       "1                    1408         46.3                3       0   No Failure  \n",
       "2                    1498         49.4                5       0   No Failure  \n",
       "3                    1433         39.5                7       0   No Failure  \n",
       "4                    1408         40.0                9       0   No Failure  "
      ]
     },
     "execution_count": 4,
     "metadata": {},
     "output_type": "execute_result"
    }
   ],
   "source": [
    "df.head()"
   ]
  },
  {
   "cell_type": "code",
   "execution_count": 5,
   "id": "e08925e3",
   "metadata": {},
   "outputs": [
    {
     "data": {
      "text/plain": [
       "UDI                        0\n",
       "Product ID                 0\n",
       "Type                       0\n",
       "Air temperature [K]        0\n",
       "Process temperature [K]    0\n",
       "Rotational speed [rpm]     0\n",
       "Torque [Nm]                0\n",
       "Tool wear [min]            0\n",
       "Target                     0\n",
       "Failure Type               0\n",
       "dtype: int64"
      ]
     },
     "execution_count": 5,
     "metadata": {},
     "output_type": "execute_result"
    }
   ],
   "source": [
    "df.isnull().sum()"
   ]
  },
  {
   "cell_type": "code",
   "execution_count": 6,
   "id": "19ca0501",
   "metadata": {},
   "outputs": [
    {
     "name": "stdout",
     "output_type": "stream",
     "text": [
      "<class 'pandas.core.frame.DataFrame'>\n",
      "RangeIndex: 10000 entries, 0 to 9999\n",
      "Data columns (total 10 columns):\n",
      " #   Column                   Non-Null Count  Dtype  \n",
      "---  ------                   --------------  -----  \n",
      " 0   UDI                      10000 non-null  int64  \n",
      " 1   Product ID               10000 non-null  object \n",
      " 2   Type                     10000 non-null  object \n",
      " 3   Air temperature [K]      10000 non-null  float64\n",
      " 4   Process temperature [K]  10000 non-null  float64\n",
      " 5   Rotational speed [rpm]   10000 non-null  int64  \n",
      " 6   Torque [Nm]              10000 non-null  float64\n",
      " 7   Tool wear [min]          10000 non-null  int64  \n",
      " 8   Target                   10000 non-null  int64  \n",
      " 9   Failure Type             10000 non-null  object \n",
      "dtypes: float64(3), int64(4), object(3)\n",
      "memory usage: 781.4+ KB\n"
     ]
    }
   ],
   "source": [
    "df.info()"
   ]
  },
  {
   "cell_type": "markdown",
   "id": "93ff3fd1",
   "metadata": {},
   "source": [
    "- On n'a pas de valeurs manquantes.\n",
    "- On a 3 attributs de type réel, 4 de type entier et 3 de type objet.\n",
    "- Les attributs UDI et Product ID n'ont aucune importance pour le modèle donc nous allons les supprimer."
   ]
  },
  {
   "cell_type": "markdown",
   "id": "c66774d7",
   "metadata": {},
   "source": [
    "## Data Cleaning"
   ]
  },
  {
   "cell_type": "code",
   "execution_count": 7,
   "id": "fcf8ebc1",
   "metadata": {},
   "outputs": [],
   "source": [
    "df=df.drop(['UDI','Product ID'],axis=1)"
   ]
  },
  {
   "cell_type": "code",
   "execution_count": 8,
   "id": "927e2e0b",
   "metadata": {},
   "outputs": [
    {
     "data": {
      "text/plain": [
       "0    9661\n",
       "1     339\n",
       "Name: Target, dtype: int64"
      ]
     },
     "execution_count": 8,
     "metadata": {},
     "output_type": "execute_result"
    }
   ],
   "source": [
    "df['Target'].value_counts()"
   ]
  },
  {
   "cell_type": "markdown",
   "id": "b4d51873",
   "metadata": {},
   "source": [
    "- Seulement 3.4% des machines ont tombés en panne.Les classes ne sont pas équilibrés"
   ]
  },
  {
   "cell_type": "code",
   "execution_count": 9,
   "id": "3c144b9a",
   "metadata": {},
   "outputs": [
    {
     "data": {
      "text/plain": [
       "No Failure                  9652\n",
       "Heat Dissipation Failure     112\n",
       "Power Failure                 95\n",
       "Overstrain Failure            78\n",
       "Tool Wear Failure             45\n",
       "Random Failures               18\n",
       "Name: Failure Type, dtype: int64"
      ]
     },
     "execution_count": 9,
     "metadata": {},
     "output_type": "execute_result"
    }
   ],
   "source": [
    "df['Failure Type'].value_counts()"
   ]
  },
  {
   "cell_type": "markdown",
   "id": "83f6c7e1",
   "metadata": {},
   "source": [
    "- 9661 des machines n'ont pas tombés en panne dans la colonne Target par contre dans la colonne Failure Type 9652 seulement ont tombés en panne."
   ]
  },
  {
   "cell_type": "code",
   "execution_count": 10,
   "id": "37ce23a0",
   "metadata": {},
   "outputs": [
    {
     "data": {
      "text/html": [
       "<div>\n",
       "<style scoped>\n",
       "    .dataframe tbody tr th:only-of-type {\n",
       "        vertical-align: middle;\n",
       "    }\n",
       "\n",
       "    .dataframe tbody tr th {\n",
       "        vertical-align: top;\n",
       "    }\n",
       "\n",
       "    .dataframe thead th {\n",
       "        text-align: right;\n",
       "    }\n",
       "</style>\n",
       "<table border=\"1\" class=\"dataframe\">\n",
       "  <thead>\n",
       "    <tr style=\"text-align: right;\">\n",
       "      <th></th>\n",
       "      <th>Type</th>\n",
       "      <th>Air temperature [K]</th>\n",
       "      <th>Process temperature [K]</th>\n",
       "      <th>Rotational speed [rpm]</th>\n",
       "      <th>Torque [Nm]</th>\n",
       "      <th>Tool wear [min]</th>\n",
       "      <th>Target</th>\n",
       "      <th>Failure Type</th>\n",
       "    </tr>\n",
       "  </thead>\n",
       "  <tbody>\n",
       "    <tr>\n",
       "      <th>1221</th>\n",
       "      <td>M</td>\n",
       "      <td>297.0</td>\n",
       "      <td>308.3</td>\n",
       "      <td>1399</td>\n",
       "      <td>46.4</td>\n",
       "      <td>132</td>\n",
       "      <td>0</td>\n",
       "      <td>Random Failures</td>\n",
       "    </tr>\n",
       "    <tr>\n",
       "      <th>1302</th>\n",
       "      <td>L</td>\n",
       "      <td>298.6</td>\n",
       "      <td>309.8</td>\n",
       "      <td>1505</td>\n",
       "      <td>45.7</td>\n",
       "      <td>144</td>\n",
       "      <td>0</td>\n",
       "      <td>Random Failures</td>\n",
       "    </tr>\n",
       "    <tr>\n",
       "      <th>1748</th>\n",
       "      <td>H</td>\n",
       "      <td>298.4</td>\n",
       "      <td>307.7</td>\n",
       "      <td>1626</td>\n",
       "      <td>31.1</td>\n",
       "      <td>166</td>\n",
       "      <td>0</td>\n",
       "      <td>Random Failures</td>\n",
       "    </tr>\n",
       "    <tr>\n",
       "      <th>2072</th>\n",
       "      <td>L</td>\n",
       "      <td>299.6</td>\n",
       "      <td>309.5</td>\n",
       "      <td>1570</td>\n",
       "      <td>35.5</td>\n",
       "      <td>189</td>\n",
       "      <td>0</td>\n",
       "      <td>Random Failures</td>\n",
       "    </tr>\n",
       "    <tr>\n",
       "      <th>2559</th>\n",
       "      <td>L</td>\n",
       "      <td>299.3</td>\n",
       "      <td>309.0</td>\n",
       "      <td>1447</td>\n",
       "      <td>50.4</td>\n",
       "      <td>140</td>\n",
       "      <td>0</td>\n",
       "      <td>Random Failures</td>\n",
       "    </tr>\n",
       "    <tr>\n",
       "      <th>3065</th>\n",
       "      <td>M</td>\n",
       "      <td>300.1</td>\n",
       "      <td>309.2</td>\n",
       "      <td>1687</td>\n",
       "      <td>27.7</td>\n",
       "      <td>95</td>\n",
       "      <td>0</td>\n",
       "      <td>Random Failures</td>\n",
       "    </tr>\n",
       "    <tr>\n",
       "      <th>3452</th>\n",
       "      <td>H</td>\n",
       "      <td>301.6</td>\n",
       "      <td>310.5</td>\n",
       "      <td>1602</td>\n",
       "      <td>32.3</td>\n",
       "      <td>2</td>\n",
       "      <td>0</td>\n",
       "      <td>Random Failures</td>\n",
       "    </tr>\n",
       "    <tr>\n",
       "      <th>5471</th>\n",
       "      <td>L</td>\n",
       "      <td>302.7</td>\n",
       "      <td>312.3</td>\n",
       "      <td>1346</td>\n",
       "      <td>61.2</td>\n",
       "      <td>170</td>\n",
       "      <td>0</td>\n",
       "      <td>Random Failures</td>\n",
       "    </tr>\n",
       "    <tr>\n",
       "      <th>5489</th>\n",
       "      <td>L</td>\n",
       "      <td>302.6</td>\n",
       "      <td>312.1</td>\n",
       "      <td>1499</td>\n",
       "      <td>35.0</td>\n",
       "      <td>215</td>\n",
       "      <td>0</td>\n",
       "      <td>Random Failures</td>\n",
       "    </tr>\n",
       "    <tr>\n",
       "      <th>5495</th>\n",
       "      <td>H</td>\n",
       "      <td>302.9</td>\n",
       "      <td>312.5</td>\n",
       "      <td>1357</td>\n",
       "      <td>55.0</td>\n",
       "      <td>12</td>\n",
       "      <td>0</td>\n",
       "      <td>Random Failures</td>\n",
       "    </tr>\n",
       "    <tr>\n",
       "      <th>5509</th>\n",
       "      <td>L</td>\n",
       "      <td>302.8</td>\n",
       "      <td>312.2</td>\n",
       "      <td>1509</td>\n",
       "      <td>36.5</td>\n",
       "      <td>52</td>\n",
       "      <td>0</td>\n",
       "      <td>Random Failures</td>\n",
       "    </tr>\n",
       "    <tr>\n",
       "      <th>5553</th>\n",
       "      <td>L</td>\n",
       "      <td>302.5</td>\n",
       "      <td>311.9</td>\n",
       "      <td>1306</td>\n",
       "      <td>59.7</td>\n",
       "      <td>172</td>\n",
       "      <td>0</td>\n",
       "      <td>Random Failures</td>\n",
       "    </tr>\n",
       "    <tr>\n",
       "      <th>5639</th>\n",
       "      <td>L</td>\n",
       "      <td>302.6</td>\n",
       "      <td>312.1</td>\n",
       "      <td>1668</td>\n",
       "      <td>28.7</td>\n",
       "      <td>180</td>\n",
       "      <td>0</td>\n",
       "      <td>Random Failures</td>\n",
       "    </tr>\n",
       "    <tr>\n",
       "      <th>6091</th>\n",
       "      <td>L</td>\n",
       "      <td>300.9</td>\n",
       "      <td>310.7</td>\n",
       "      <td>1412</td>\n",
       "      <td>57.5</td>\n",
       "      <td>16</td>\n",
       "      <td>0</td>\n",
       "      <td>Random Failures</td>\n",
       "    </tr>\n",
       "    <tr>\n",
       "      <th>6913</th>\n",
       "      <td>L</td>\n",
       "      <td>300.8</td>\n",
       "      <td>311.2</td>\n",
       "      <td>1481</td>\n",
       "      <td>38.5</td>\n",
       "      <td>181</td>\n",
       "      <td>0</td>\n",
       "      <td>Random Failures</td>\n",
       "    </tr>\n",
       "    <tr>\n",
       "      <th>6960</th>\n",
       "      <td>L</td>\n",
       "      <td>300.7</td>\n",
       "      <td>311.0</td>\n",
       "      <td>1413</td>\n",
       "      <td>52.0</td>\n",
       "      <td>91</td>\n",
       "      <td>0</td>\n",
       "      <td>Random Failures</td>\n",
       "    </tr>\n",
       "    <tr>\n",
       "      <th>7488</th>\n",
       "      <td>L</td>\n",
       "      <td>300.3</td>\n",
       "      <td>311.7</td>\n",
       "      <td>1545</td>\n",
       "      <td>43.5</td>\n",
       "      <td>160</td>\n",
       "      <td>0</td>\n",
       "      <td>Random Failures</td>\n",
       "    </tr>\n",
       "    <tr>\n",
       "      <th>7868</th>\n",
       "      <td>H</td>\n",
       "      <td>300.4</td>\n",
       "      <td>311.9</td>\n",
       "      <td>1438</td>\n",
       "      <td>46.7</td>\n",
       "      <td>41</td>\n",
       "      <td>0</td>\n",
       "      <td>Random Failures</td>\n",
       "    </tr>\n",
       "  </tbody>\n",
       "</table>\n",
       "</div>"
      ],
      "text/plain": [
       "     Type  Air temperature [K]  Process temperature [K]  \\\n",
       "1221    M                297.0                    308.3   \n",
       "1302    L                298.6                    309.8   \n",
       "1748    H                298.4                    307.7   \n",
       "2072    L                299.6                    309.5   \n",
       "2559    L                299.3                    309.0   \n",
       "3065    M                300.1                    309.2   \n",
       "3452    H                301.6                    310.5   \n",
       "5471    L                302.7                    312.3   \n",
       "5489    L                302.6                    312.1   \n",
       "5495    H                302.9                    312.5   \n",
       "5509    L                302.8                    312.2   \n",
       "5553    L                302.5                    311.9   \n",
       "5639    L                302.6                    312.1   \n",
       "6091    L                300.9                    310.7   \n",
       "6913    L                300.8                    311.2   \n",
       "6960    L                300.7                    311.0   \n",
       "7488    L                300.3                    311.7   \n",
       "7868    H                300.4                    311.9   \n",
       "\n",
       "      Rotational speed [rpm]  Torque [Nm]  Tool wear [min]  Target  \\\n",
       "1221                    1399         46.4              132       0   \n",
       "1302                    1505         45.7              144       0   \n",
       "1748                    1626         31.1              166       0   \n",
       "2072                    1570         35.5              189       0   \n",
       "2559                    1447         50.4              140       0   \n",
       "3065                    1687         27.7               95       0   \n",
       "3452                    1602         32.3                2       0   \n",
       "5471                    1346         61.2              170       0   \n",
       "5489                    1499         35.0              215       0   \n",
       "5495                    1357         55.0               12       0   \n",
       "5509                    1509         36.5               52       0   \n",
       "5553                    1306         59.7              172       0   \n",
       "5639                    1668         28.7              180       0   \n",
       "6091                    1412         57.5               16       0   \n",
       "6913                    1481         38.5              181       0   \n",
       "6960                    1413         52.0               91       0   \n",
       "7488                    1545         43.5              160       0   \n",
       "7868                    1438         46.7               41       0   \n",
       "\n",
       "         Failure Type  \n",
       "1221  Random Failures  \n",
       "1302  Random Failures  \n",
       "1748  Random Failures  \n",
       "2072  Random Failures  \n",
       "2559  Random Failures  \n",
       "3065  Random Failures  \n",
       "3452  Random Failures  \n",
       "5471  Random Failures  \n",
       "5489  Random Failures  \n",
       "5495  Random Failures  \n",
       "5509  Random Failures  \n",
       "5553  Random Failures  \n",
       "5639  Random Failures  \n",
       "6091  Random Failures  \n",
       "6913  Random Failures  \n",
       "6960  Random Failures  \n",
       "7488  Random Failures  \n",
       "7868  Random Failures  "
      ]
     },
     "execution_count": 10,
     "metadata": {},
     "output_type": "execute_result"
    }
   ],
   "source": [
    "df[(df['Target']==0) & (df['Failure Type']!='No Failure')]"
   ]
  },
  {
   "cell_type": "code",
   "execution_count": 11,
   "id": "2b3146da",
   "metadata": {},
   "outputs": [],
   "source": [
    "df=df[~((df['Target']==0) & (df['Failure Type']!='No Failure'))]"
   ]
  },
  {
   "cell_type": "code",
   "execution_count": 12,
   "id": "fe7c86b7",
   "metadata": {},
   "outputs": [
    {
     "data": {
      "text/plain": [
       "(9982, 8)"
      ]
     },
     "execution_count": 12,
     "metadata": {},
     "output_type": "execute_result"
    }
   ],
   "source": [
    "df.shape"
   ]
  },
  {
   "cell_type": "code",
   "execution_count": 13,
   "id": "77129270",
   "metadata": {},
   "outputs": [
    {
     "data": {
      "text/plain": [
       "No Failure                  9652\n",
       "Heat Dissipation Failure     112\n",
       "Power Failure                 95\n",
       "Overstrain Failure            78\n",
       "Tool Wear Failure             45\n",
       "Name: Failure Type, dtype: int64"
      ]
     },
     "execution_count": 13,
     "metadata": {},
     "output_type": "execute_result"
    }
   ],
   "source": [
    "df['Failure Type'].value_counts()"
   ]
  },
  {
   "cell_type": "markdown",
   "id": "0d344f19",
   "metadata": {},
   "source": [
    "- Vérifions si toutes les lignes qui ont des pannes dans la colonne Target, n'ont pas la valeur pas de panne dans la colonne Type de panne"
   ]
  },
  {
   "cell_type": "code",
   "execution_count": 14,
   "id": "b2930653",
   "metadata": {},
   "outputs": [
    {
     "data": {
      "text/html": [
       "<div>\n",
       "<style scoped>\n",
       "    .dataframe tbody tr th:only-of-type {\n",
       "        vertical-align: middle;\n",
       "    }\n",
       "\n",
       "    .dataframe tbody tr th {\n",
       "        vertical-align: top;\n",
       "    }\n",
       "\n",
       "    .dataframe thead th {\n",
       "        text-align: right;\n",
       "    }\n",
       "</style>\n",
       "<table border=\"1\" class=\"dataframe\">\n",
       "  <thead>\n",
       "    <tr style=\"text-align: right;\">\n",
       "      <th></th>\n",
       "      <th>Type</th>\n",
       "      <th>Air temperature [K]</th>\n",
       "      <th>Process temperature [K]</th>\n",
       "      <th>Rotational speed [rpm]</th>\n",
       "      <th>Torque [Nm]</th>\n",
       "      <th>Tool wear [min]</th>\n",
       "      <th>Target</th>\n",
       "      <th>Failure Type</th>\n",
       "    </tr>\n",
       "  </thead>\n",
       "  <tbody>\n",
       "    <tr>\n",
       "      <th>1437</th>\n",
       "      <td>H</td>\n",
       "      <td>298.8</td>\n",
       "      <td>309.9</td>\n",
       "      <td>1439</td>\n",
       "      <td>45.2</td>\n",
       "      <td>40</td>\n",
       "      <td>1</td>\n",
       "      <td>No Failure</td>\n",
       "    </tr>\n",
       "    <tr>\n",
       "      <th>2749</th>\n",
       "      <td>M</td>\n",
       "      <td>299.7</td>\n",
       "      <td>309.2</td>\n",
       "      <td>1685</td>\n",
       "      <td>28.9</td>\n",
       "      <td>179</td>\n",
       "      <td>1</td>\n",
       "      <td>No Failure</td>\n",
       "    </tr>\n",
       "    <tr>\n",
       "      <th>4044</th>\n",
       "      <td>M</td>\n",
       "      <td>301.9</td>\n",
       "      <td>310.9</td>\n",
       "      <td>1419</td>\n",
       "      <td>47.7</td>\n",
       "      <td>20</td>\n",
       "      <td>1</td>\n",
       "      <td>No Failure</td>\n",
       "    </tr>\n",
       "    <tr>\n",
       "      <th>4684</th>\n",
       "      <td>M</td>\n",
       "      <td>303.6</td>\n",
       "      <td>311.8</td>\n",
       "      <td>1421</td>\n",
       "      <td>44.8</td>\n",
       "      <td>101</td>\n",
       "      <td>1</td>\n",
       "      <td>No Failure</td>\n",
       "    </tr>\n",
       "    <tr>\n",
       "      <th>5536</th>\n",
       "      <td>M</td>\n",
       "      <td>302.3</td>\n",
       "      <td>311.8</td>\n",
       "      <td>1363</td>\n",
       "      <td>54.0</td>\n",
       "      <td>119</td>\n",
       "      <td>1</td>\n",
       "      <td>No Failure</td>\n",
       "    </tr>\n",
       "    <tr>\n",
       "      <th>5941</th>\n",
       "      <td>L</td>\n",
       "      <td>300.6</td>\n",
       "      <td>310.7</td>\n",
       "      <td>1438</td>\n",
       "      <td>48.5</td>\n",
       "      <td>78</td>\n",
       "      <td>1</td>\n",
       "      <td>No Failure</td>\n",
       "    </tr>\n",
       "    <tr>\n",
       "      <th>6478</th>\n",
       "      <td>L</td>\n",
       "      <td>300.5</td>\n",
       "      <td>309.8</td>\n",
       "      <td>1663</td>\n",
       "      <td>29.1</td>\n",
       "      <td>145</td>\n",
       "      <td>1</td>\n",
       "      <td>No Failure</td>\n",
       "    </tr>\n",
       "    <tr>\n",
       "      <th>8506</th>\n",
       "      <td>L</td>\n",
       "      <td>298.4</td>\n",
       "      <td>309.6</td>\n",
       "      <td>1710</td>\n",
       "      <td>27.3</td>\n",
       "      <td>163</td>\n",
       "      <td>1</td>\n",
       "      <td>No Failure</td>\n",
       "    </tr>\n",
       "    <tr>\n",
       "      <th>9015</th>\n",
       "      <td>L</td>\n",
       "      <td>297.2</td>\n",
       "      <td>308.1</td>\n",
       "      <td>1431</td>\n",
       "      <td>49.7</td>\n",
       "      <td>210</td>\n",
       "      <td>1</td>\n",
       "      <td>No Failure</td>\n",
       "    </tr>\n",
       "  </tbody>\n",
       "</table>\n",
       "</div>"
      ],
      "text/plain": [
       "     Type  Air temperature [K]  Process temperature [K]  \\\n",
       "1437    H                298.8                    309.9   \n",
       "2749    M                299.7                    309.2   \n",
       "4044    M                301.9                    310.9   \n",
       "4684    M                303.6                    311.8   \n",
       "5536    M                302.3                    311.8   \n",
       "5941    L                300.6                    310.7   \n",
       "6478    L                300.5                    309.8   \n",
       "8506    L                298.4                    309.6   \n",
       "9015    L                297.2                    308.1   \n",
       "\n",
       "      Rotational speed [rpm]  Torque [Nm]  Tool wear [min]  Target  \\\n",
       "1437                    1439         45.2               40       1   \n",
       "2749                    1685         28.9              179       1   \n",
       "4044                    1419         47.7               20       1   \n",
       "4684                    1421         44.8              101       1   \n",
       "5536                    1363         54.0              119       1   \n",
       "5941                    1438         48.5               78       1   \n",
       "6478                    1663         29.1              145       1   \n",
       "8506                    1710         27.3              163       1   \n",
       "9015                    1431         49.7              210       1   \n",
       "\n",
       "     Failure Type  \n",
       "1437   No Failure  \n",
       "2749   No Failure  \n",
       "4044   No Failure  \n",
       "4684   No Failure  \n",
       "5536   No Failure  \n",
       "5941   No Failure  \n",
       "6478   No Failure  \n",
       "8506   No Failure  \n",
       "9015   No Failure  "
      ]
     },
     "execution_count": 14,
     "metadata": {},
     "output_type": "execute_result"
    }
   ],
   "source": [
    "df[(df['Target']==1) & (df['Failure Type']=='No Failure')]"
   ]
  },
  {
   "cell_type": "code",
   "execution_count": 15,
   "id": "03d15b5d",
   "metadata": {},
   "outputs": [],
   "source": [
    "df=df[~((df['Target']==1) & (df['Failure Type']=='No Failure'))]"
   ]
  },
  {
   "cell_type": "code",
   "execution_count": 16,
   "id": "a84c6dd1",
   "metadata": {},
   "outputs": [
    {
     "data": {
      "text/plain": [
       "(9973, 8)"
      ]
     },
     "execution_count": 16,
     "metadata": {},
     "output_type": "execute_result"
    }
   ],
   "source": [
    "df.shape"
   ]
  },
  {
   "cell_type": "code",
   "execution_count": 17,
   "id": "8154d096",
   "metadata": {},
   "outputs": [
    {
     "data": {
      "text/plain": [
       "L    5984\n",
       "M    2991\n",
       "H     998\n",
       "Name: Type, dtype: int64"
      ]
     },
     "execution_count": 17,
     "metadata": {},
     "output_type": "execute_result"
    }
   ],
   "source": [
    "df['Type'].value_counts()"
   ]
  },
  {
   "cell_type": "code",
   "execution_count": 18,
   "id": "4f4872de",
   "metadata": {},
   "outputs": [
    {
     "data": {
      "text/plain": [
       "([<matplotlib.patches.Wedge at 0x18d31b9e200>,\n",
       "  <matplotlib.patches.Wedge at 0x18d31b9e0b0>,\n",
       "  <matplotlib.patches.Wedge at 0x18d31b9fc40>],\n",
       " [Text(-0.3399845930712328, 1.0461407536628082, 'Low'),\n",
       "  Text(-0.00017322822522085294, -1.0999999863599919, 'Medium'),\n",
       "  Text(1.046087207809097, -0.34014931083006333, 'High')],\n",
       " [Text(-0.1854461416752179, 0.5706222292706226, '60.0%'),\n",
       "  Text(-9.448812284773796e-05, -0.5999999925599955, '30.0%'),\n",
       "  Text(0.5705930224413256, -0.18553598772548907, '10.0%')])"
      ]
     },
     "execution_count": 18,
     "metadata": {},
     "output_type": "execute_result"
    },
    {
     "data": {
      "image/png": "[encoded data removed]",
      "text/plain": [
       "<Figure size 640x480 with 1 Axes>"
      ]
     },
     "metadata": {},
     "output_type": "display_data"
    }
   ],
   "source": [
    "L1=['Low','Medium','High']\n",
    "L2=[5984,2991,998]\n",
    "plt.pie(L2,labels=L1,autopct='%1.1f%%')"
   ]
  },
  {
   "cell_type": "markdown",
   "id": "db9672a2",
   "metadata": {},
   "source": [
    "- 60% des machines ont une haute qualité,30% ont une qualité moyenne et 10% sont de basse qualité"
   ]
  },
  {
   "cell_type": "code",
   "execution_count": 19,
   "id": "b1bace9c",
   "metadata": {},
   "outputs": [
    {
     "data": {
      "text/plain": [
       "231"
      ]
     },
     "execution_count": 19,
     "metadata": {},
     "output_type": "execute_result"
    }
   ],
   "source": [
    "(df.loc[df['Type']=='L','Target']==1).sum()"
   ]
  },
  {
   "cell_type": "code",
   "execution_count": 20,
   "id": "9501f646",
   "metadata": {},
   "outputs": [
    {
     "data": {
      "text/plain": [
       "20"
      ]
     },
     "execution_count": 20,
     "metadata": {},
     "output_type": "execute_result"
    }
   ],
   "source": [
    "(df.loc[df['Type']=='H','Target']==1).sum()"
   ]
  },
  {
   "cell_type": "markdown",
   "id": "3525bffa",
   "metadata": {},
   "source": [
    "- Plus de 60% des pannes (70% =231/330) sont causés par des machines de basse qualité et moins de 10% des pannes(6% =20/330) sont causés par des machines de basse qualité ce qui est logique."
   ]
  },
  {
   "cell_type": "markdown",
   "id": "6a4c6f87",
   "metadata": {},
   "source": [
    "## Outliers Detection"
   ]
  },
  {
   "cell_type": "code",
   "execution_count": 21,
   "id": "c09fee83",
   "metadata": {},
   "outputs": [
    {
     "data": {
      "text/html": [
       "<div>\n",
       "<style scoped>\n",
       "    .dataframe tbody tr th:only-of-type {\n",
       "        vertical-align: middle;\n",
       "    }\n",
       "\n",
       "    .dataframe tbody tr th {\n",
       "        vertical-align: top;\n",
       "    }\n",
       "\n",
       "    .dataframe thead th {\n",
       "        text-align: right;\n",
       "    }\n",
       "</style>\n",
       "<table border=\"1\" class=\"dataframe\">\n",
       "  <thead>\n",
       "    <tr style=\"text-align: right;\">\n",
       "      <th></th>\n",
       "      <th>Air temperature [K]</th>\n",
       "      <th>Process temperature [K]</th>\n",
       "      <th>Rotational speed [rpm]</th>\n",
       "      <th>Torque [Nm]</th>\n",
       "      <th>Tool wear [min]</th>\n",
       "      <th>Target</th>\n",
       "    </tr>\n",
       "  </thead>\n",
       "  <tbody>\n",
       "    <tr>\n",
       "      <th>count</th>\n",
       "      <td>9973.000000</td>\n",
       "      <td>9973.000000</td>\n",
       "      <td>9973.000000</td>\n",
       "      <td>9973.000000</td>\n",
       "      <td>9973.000000</td>\n",
       "      <td>9973.000000</td>\n",
       "    </tr>\n",
       "    <tr>\n",
       "      <th>mean</th>\n",
       "      <td>300.003259</td>\n",
       "      <td>310.004031</td>\n",
       "      <td>1538.893212</td>\n",
       "      <td>39.978993</td>\n",
       "      <td>107.921087</td>\n",
       "      <td>0.033089</td>\n",
       "    </tr>\n",
       "    <tr>\n",
       "      <th>std</th>\n",
       "      <td>2.000548</td>\n",
       "      <td>1.483692</td>\n",
       "      <td>179.412171</td>\n",
       "      <td>9.966805</td>\n",
       "      <td>63.649152</td>\n",
       "      <td>0.178879</td>\n",
       "    </tr>\n",
       "    <tr>\n",
       "      <th>min</th>\n",
       "      <td>295.300000</td>\n",
       "      <td>305.700000</td>\n",
       "      <td>1168.000000</td>\n",
       "      <td>3.800000</td>\n",
       "      <td>0.000000</td>\n",
       "      <td>0.000000</td>\n",
       "    </tr>\n",
       "    <tr>\n",
       "      <th>25%</th>\n",
       "      <td>298.300000</td>\n",
       "      <td>308.800000</td>\n",
       "      <td>1423.000000</td>\n",
       "      <td>33.200000</td>\n",
       "      <td>53.000000</td>\n",
       "      <td>0.000000</td>\n",
       "    </tr>\n",
       "    <tr>\n",
       "      <th>50%</th>\n",
       "      <td>300.100000</td>\n",
       "      <td>310.100000</td>\n",
       "      <td>1503.000000</td>\n",
       "      <td>40.100000</td>\n",
       "      <td>108.000000</td>\n",
       "      <td>0.000000</td>\n",
       "    </tr>\n",
       "    <tr>\n",
       "      <th>75%</th>\n",
       "      <td>301.500000</td>\n",
       "      <td>311.100000</td>\n",
       "      <td>1612.000000</td>\n",
       "      <td>46.700000</td>\n",
       "      <td>162.000000</td>\n",
       "      <td>0.000000</td>\n",
       "    </tr>\n",
       "    <tr>\n",
       "      <th>max</th>\n",
       "      <td>304.500000</td>\n",
       "      <td>313.800000</td>\n",
       "      <td>2886.000000</td>\n",
       "      <td>76.600000</td>\n",
       "      <td>253.000000</td>\n",
       "      <td>1.000000</td>\n",
       "    </tr>\n",
       "  </tbody>\n",
       "</table>\n",
       "</div>"
      ],
      "text/plain": [
       "       Air temperature [K]  Process temperature [K]  Rotational speed [rpm]  \\\n",
       "count          9973.000000              9973.000000             9973.000000   \n",
       "mean            300.003259               310.004031             1538.893212   \n",
       "std               2.000548                 1.483692              179.412171   \n",
       "min             295.300000               305.700000             1168.000000   \n",
       "25%             298.300000               308.800000             1423.000000   \n",
       "50%             300.100000               310.100000             1503.000000   \n",
       "75%             301.500000               311.100000             1612.000000   \n",
       "max             304.500000               313.800000             2886.000000   \n",
       "\n",
       "       Torque [Nm]  Tool wear [min]       Target  \n",
       "count  9973.000000      9973.000000  9973.000000  \n",
       "mean     39.978993       107.921087     0.033089  \n",
       "std       9.966805        63.649152     0.178879  \n",
       "min       3.800000         0.000000     0.000000  \n",
       "25%      33.200000        53.000000     0.000000  \n",
       "50%      40.100000       108.000000     0.000000  \n",
       "75%      46.700000       162.000000     0.000000  \n",
       "max      76.600000       253.000000     1.000000  "
      ]
     },
     "execution_count": 21,
     "metadata": {},
     "output_type": "execute_result"
    }
   ],
   "source": [
    "df.describe()"
   ]
  },
  {
   "cell_type": "markdown",
   "id": "0a611a3f",
   "metadata": {},
   "source": [
    "- On remarque qu'il y a des valeurs aberrantes pour les variables vitesse de rotation et moment de torsion."
   ]
  },
  {
   "cell_type": "code",
   "execution_count": 22,
   "id": "467cd7f8",
   "metadata": {},
   "outputs": [
    {
     "data": {
      "text/plain": [
       "['Air temperature [K]',\n",
       " 'Process temperature [K]',\n",
       " 'Torque [Nm]',\n",
       " 'Rotational speed [rpm]',\n",
       " 'Tool wear [min]']"
      ]
     },
     "execution_count": 22,
     "metadata": {},
     "output_type": "execute_result"
    }
   ],
   "source": [
    "list1=[i for i in df.select_dtypes('float')]\n",
    "list2=[i for i in df.select_dtypes('int')]\n",
    "list3=list1+list2\n",
    "list3.remove('Target')\n",
    "list3"
   ]
  },
  {
   "cell_type": "code",
   "execution_count": 23,
   "id": "5d7e5929",
   "metadata": {},
   "outputs": [
    {
     "data": {
      "image/png": "[encoded data removed]",
      "text/plain": [
       "<Figure size 500x500 with 1 Axes>"
      ]
     },
     "metadata": {},
     "output_type": "display_data"
    },
    {
     "data": {
      "image/png": "[encoded data removed]",
      "text/plain": [
       "<Figure size 500x500 with 1 Axes>"
      ]
     },
     "metadata": {},
     "output_type": "display_data"
    },
    {
     "data": {
      "image/png": "[encoded data removed]",
      "text/plain": [
       "<Figure size 500x500 with 1 Axes>"
      ]
     },
     "metadata": {},
     "output_type": "display_data"
    },
    {
     "data": {
      "image/png": "[encoded data removed]",
      "text/plain": [
       "<Figure size 500x500 with 1 Axes>"
      ]
     },
     "metadata": {},
     "output_type": "display_data"
    },
    {
     "data": {
      "image/png": "[encoded data removed]",
      "text/plain": [
       "<Figure size 500x500 with 1 Axes>"
      ]
     },
     "metadata": {},
     "output_type": "display_data"
    }
   ],
   "source": [
    "for col in list3:\n",
    "    sns.displot(df[col])"
   ]
  },
  {
   "cell_type": "code",
   "execution_count": 24,
   "id": "8b3b762c",
   "metadata": {
    "scrolled": true
   },
   "outputs": [
    {
     "data": {
      "image/png": "[encoded data removed]",
      "text/plain": [
       "<Figure size 640x480 with 1 Axes>"
      ]
     },
     "metadata": {},
     "output_type": "display_data"
    },
    {
     "data": {
      "image/png": "[encoded data removed]",
      "text/plain": [
       "<Figure size 640x480 with 1 Axes>"
      ]
     },
     "metadata": {},
     "output_type": "display_data"
    },
    {
     "data": {
      "image/png": "[encoded data removed]",
      "text/plain": [
       "<Figure size 640x480 with 1 Axes>"
      ]
     },
     "metadata": {},
     "output_type": "display_data"
    },
    {
     "data": {
      "image/png": "[encoded data removed]",
      "text/plain": [
       "<Figure size 640x480 with 1 Axes>"
      ]
     },
     "metadata": {},
     "output_type": "display_data"
    },
    {
     "data": {
      "image/png": "[encoded data removed]",
      "text/plain": [
       "<Figure size 640x480 with 1 Axes>"
      ]
     },
     "metadata": {},
     "output_type": "display_data"
    }
   ],
   "source": [
    "for col in list3:\n",
    "    plt.figure()\n",
    "    df.boxplot([col])"
   ]
  },
  {
   "cell_type": "markdown",
   "id": "d4376dc4",
   "metadata": {},
   "source": [
    "- Ce graphe nous montre qu'il y a des valeurs aberrantes pour les variables vitesse de rotation et moment de torsion.Vérifions si ces valeurs sont des fautes ou bien sont la cause d'une panne."
   ]
  },
  {
   "cell_type": "code",
   "execution_count": 25,
   "id": "9de9316f",
   "metadata": {},
   "outputs": [
    {
     "data": {
      "text/html": [
       "<div>\n",
       "<style scoped>\n",
       "    .dataframe tbody tr th:only-of-type {\n",
       "        vertical-align: middle;\n",
       "    }\n",
       "\n",
       "    .dataframe tbody tr th {\n",
       "        vertical-align: top;\n",
       "    }\n",
       "\n",
       "    .dataframe thead th {\n",
       "        text-align: right;\n",
       "    }\n",
       "</style>\n",
       "<table border=\"1\" class=\"dataframe\">\n",
       "  <thead>\n",
       "    <tr style=\"text-align: right;\">\n",
       "      <th></th>\n",
       "      <th>Type</th>\n",
       "      <th>Air temperature [K]</th>\n",
       "      <th>Process temperature [K]</th>\n",
       "      <th>Rotational speed [rpm]</th>\n",
       "      <th>Torque [Nm]</th>\n",
       "      <th>Tool wear [min]</th>\n",
       "      <th>Target</th>\n",
       "      <th>Failure Type</th>\n",
       "    </tr>\n",
       "  </thead>\n",
       "  <tbody>\n",
       "    <tr>\n",
       "      <th>50</th>\n",
       "      <td>L</td>\n",
       "      <td>298.9</td>\n",
       "      <td>309.1</td>\n",
       "      <td>2861</td>\n",
       "      <td>4.6</td>\n",
       "      <td>143</td>\n",
       "      <td>1</td>\n",
       "      <td>Power Failure</td>\n",
       "    </tr>\n",
       "    <tr>\n",
       "      <th>194</th>\n",
       "      <td>M</td>\n",
       "      <td>298.2</td>\n",
       "      <td>308.5</td>\n",
       "      <td>2678</td>\n",
       "      <td>10.7</td>\n",
       "      <td>86</td>\n",
       "      <td>1</td>\n",
       "      <td>Power Failure</td>\n",
       "    </tr>\n",
       "    <tr>\n",
       "      <th>380</th>\n",
       "      <td>L</td>\n",
       "      <td>297.5</td>\n",
       "      <td>308.3</td>\n",
       "      <td>2564</td>\n",
       "      <td>12.8</td>\n",
       "      <td>127</td>\n",
       "      <td>1</td>\n",
       "      <td>Power Failure</td>\n",
       "    </tr>\n",
       "    <tr>\n",
       "      <th>463</th>\n",
       "      <td>L</td>\n",
       "      <td>297.4</td>\n",
       "      <td>308.7</td>\n",
       "      <td>2874</td>\n",
       "      <td>4.2</td>\n",
       "      <td>118</td>\n",
       "      <td>1</td>\n",
       "      <td>Power Failure</td>\n",
       "    </tr>\n",
       "    <tr>\n",
       "      <th>847</th>\n",
       "      <td>L</td>\n",
       "      <td>296.4</td>\n",
       "      <td>307.4</td>\n",
       "      <td>2833</td>\n",
       "      <td>5.6</td>\n",
       "      <td>213</td>\n",
       "      <td>1</td>\n",
       "      <td>Power Failure</td>\n",
       "    </tr>\n",
       "    <tr>\n",
       "      <th>1095</th>\n",
       "      <td>L</td>\n",
       "      <td>296.9</td>\n",
       "      <td>307.5</td>\n",
       "      <td>2721</td>\n",
       "      <td>9.3</td>\n",
       "      <td>18</td>\n",
       "      <td>1</td>\n",
       "      <td>Power Failure</td>\n",
       "    </tr>\n",
       "    <tr>\n",
       "      <th>1391</th>\n",
       "      <td>L</td>\n",
       "      <td>298.9</td>\n",
       "      <td>310.2</td>\n",
       "      <td>2737</td>\n",
       "      <td>8.8</td>\n",
       "      <td>142</td>\n",
       "      <td>1</td>\n",
       "      <td>Power Failure</td>\n",
       "    </tr>\n",
       "    <tr>\n",
       "      <th>1784</th>\n",
       "      <td>L</td>\n",
       "      <td>298.3</td>\n",
       "      <td>308.0</td>\n",
       "      <td>2886</td>\n",
       "      <td>3.8</td>\n",
       "      <td>57</td>\n",
       "      <td>1</td>\n",
       "      <td>Power Failure</td>\n",
       "    </tr>\n",
       "    <tr>\n",
       "      <th>1808</th>\n",
       "      <td>L</td>\n",
       "      <td>298.1</td>\n",
       "      <td>307.7</td>\n",
       "      <td>2567</td>\n",
       "      <td>12.8</td>\n",
       "      <td>125</td>\n",
       "      <td>1</td>\n",
       "      <td>Power Failure</td>\n",
       "    </tr>\n",
       "    <tr>\n",
       "      <th>3140</th>\n",
       "      <td>H</td>\n",
       "      <td>300.4</td>\n",
       "      <td>309.9</td>\n",
       "      <td>2563</td>\n",
       "      <td>12.8</td>\n",
       "      <td>81</td>\n",
       "      <td>1</td>\n",
       "      <td>Power Failure</td>\n",
       "    </tr>\n",
       "    <tr>\n",
       "      <th>3369</th>\n",
       "      <td>L</td>\n",
       "      <td>301.5</td>\n",
       "      <td>310.9</td>\n",
       "      <td>2760</td>\n",
       "      <td>8.0</td>\n",
       "      <td>15</td>\n",
       "      <td>1</td>\n",
       "      <td>Power Failure</td>\n",
       "    </tr>\n",
       "    <tr>\n",
       "      <th>3457</th>\n",
       "      <td>M</td>\n",
       "      <td>301.5</td>\n",
       "      <td>310.4</td>\n",
       "      <td>2639</td>\n",
       "      <td>12.0</td>\n",
       "      <td>21</td>\n",
       "      <td>1</td>\n",
       "      <td>Power Failure</td>\n",
       "    </tr>\n",
       "    <tr>\n",
       "      <th>3579</th>\n",
       "      <td>L</td>\n",
       "      <td>301.8</td>\n",
       "      <td>310.6</td>\n",
       "      <td>2672</td>\n",
       "      <td>11.8</td>\n",
       "      <td>124</td>\n",
       "      <td>1</td>\n",
       "      <td>Power Failure</td>\n",
       "    </tr>\n",
       "    <tr>\n",
       "      <th>3867</th>\n",
       "      <td>M</td>\n",
       "      <td>302.7</td>\n",
       "      <td>311.6</td>\n",
       "      <td>2709</td>\n",
       "      <td>9.7</td>\n",
       "      <td>2</td>\n",
       "      <td>1</td>\n",
       "      <td>Power Failure</td>\n",
       "    </tr>\n",
       "    <tr>\n",
       "      <th>4048</th>\n",
       "      <td>L</td>\n",
       "      <td>301.9</td>\n",
       "      <td>311.0</td>\n",
       "      <td>2691</td>\n",
       "      <td>12.1</td>\n",
       "      <td>31</td>\n",
       "      <td>1</td>\n",
       "      <td>Power Failure</td>\n",
       "    </tr>\n",
       "    <tr>\n",
       "      <th>4296</th>\n",
       "      <td>L</td>\n",
       "      <td>301.8</td>\n",
       "      <td>310.2</td>\n",
       "      <td>2825</td>\n",
       "      <td>5.8</td>\n",
       "      <td>215</td>\n",
       "      <td>1</td>\n",
       "      <td>Power Failure</td>\n",
       "    </tr>\n",
       "    <tr>\n",
       "      <th>4302</th>\n",
       "      <td>L</td>\n",
       "      <td>301.7</td>\n",
       "      <td>310.1</td>\n",
       "      <td>2695</td>\n",
       "      <td>12.6</td>\n",
       "      <td>10</td>\n",
       "      <td>0</td>\n",
       "      <td>No Failure</td>\n",
       "    </tr>\n",
       "    <tr>\n",
       "      <th>4419</th>\n",
       "      <td>M</td>\n",
       "      <td>302.6</td>\n",
       "      <td>310.2</td>\n",
       "      <td>2676</td>\n",
       "      <td>10.8</td>\n",
       "      <td>84</td>\n",
       "      <td>1</td>\n",
       "      <td>Power Failure</td>\n",
       "    </tr>\n",
       "    <tr>\n",
       "      <th>4762</th>\n",
       "      <td>M</td>\n",
       "      <td>303.7</td>\n",
       "      <td>312.0</td>\n",
       "      <td>2663</td>\n",
       "      <td>11.4</td>\n",
       "      <td>71</td>\n",
       "      <td>1</td>\n",
       "      <td>Power Failure</td>\n",
       "    </tr>\n",
       "    <tr>\n",
       "      <th>4997</th>\n",
       "      <td>M</td>\n",
       "      <td>303.6</td>\n",
       "      <td>312.8</td>\n",
       "      <td>2659</td>\n",
       "      <td>11.4</td>\n",
       "      <td>26</td>\n",
       "      <td>1</td>\n",
       "      <td>Power Failure</td>\n",
       "    </tr>\n",
       "    <tr>\n",
       "      <th>5152</th>\n",
       "      <td>L</td>\n",
       "      <td>304.3</td>\n",
       "      <td>313.5</td>\n",
       "      <td>2643</td>\n",
       "      <td>12.7</td>\n",
       "      <td>21</td>\n",
       "      <td>0</td>\n",
       "      <td>No Failure</td>\n",
       "    </tr>\n",
       "    <tr>\n",
       "      <th>5334</th>\n",
       "      <td>M</td>\n",
       "      <td>303.4</td>\n",
       "      <td>312.6</td>\n",
       "      <td>2706</td>\n",
       "      <td>9.8</td>\n",
       "      <td>65</td>\n",
       "      <td>1</td>\n",
       "      <td>Power Failure</td>\n",
       "    </tr>\n",
       "    <tr>\n",
       "      <th>6799</th>\n",
       "      <td>M</td>\n",
       "      <td>301.1</td>\n",
       "      <td>310.7</td>\n",
       "      <td>2636</td>\n",
       "      <td>12.2</td>\n",
       "      <td>100</td>\n",
       "      <td>1</td>\n",
       "      <td>Power Failure</td>\n",
       "    </tr>\n",
       "    <tr>\n",
       "      <th>7011</th>\n",
       "      <td>L</td>\n",
       "      <td>300.5</td>\n",
       "      <td>310.5</td>\n",
       "      <td>2633</td>\n",
       "      <td>12.2</td>\n",
       "      <td>17</td>\n",
       "      <td>1</td>\n",
       "      <td>Power Failure</td>\n",
       "    </tr>\n",
       "    <tr>\n",
       "      <th>7536</th>\n",
       "      <td>L</td>\n",
       "      <td>300.1</td>\n",
       "      <td>311.3</td>\n",
       "      <td>2579</td>\n",
       "      <td>12.5</td>\n",
       "      <td>64</td>\n",
       "      <td>1</td>\n",
       "      <td>Power Failure</td>\n",
       "    </tr>\n",
       "    <tr>\n",
       "      <th>7997</th>\n",
       "      <td>M</td>\n",
       "      <td>301.0</td>\n",
       "      <td>312.2</td>\n",
       "      <td>2710</td>\n",
       "      <td>9.7</td>\n",
       "      <td>143</td>\n",
       "      <td>1</td>\n",
       "      <td>Power Failure</td>\n",
       "    </tr>\n",
       "    <tr>\n",
       "      <th>8398</th>\n",
       "      <td>L</td>\n",
       "      <td>298.5</td>\n",
       "      <td>309.7</td>\n",
       "      <td>2617</td>\n",
       "      <td>12.1</td>\n",
       "      <td>102</td>\n",
       "      <td>1</td>\n",
       "      <td>Power Failure</td>\n",
       "    </tr>\n",
       "    <tr>\n",
       "      <th>9939</th>\n",
       "      <td>H</td>\n",
       "      <td>298.3</td>\n",
       "      <td>308.1</td>\n",
       "      <td>2636</td>\n",
       "      <td>12.8</td>\n",
       "      <td>84</td>\n",
       "      <td>0</td>\n",
       "      <td>No Failure</td>\n",
       "    </tr>\n",
       "  </tbody>\n",
       "</table>\n",
       "</div>"
      ],
      "text/plain": [
       "     Type  Air temperature [K]  Process temperature [K]  \\\n",
       "50      L                298.9                    309.1   \n",
       "194     M                298.2                    308.5   \n",
       "380     L                297.5                    308.3   \n",
       "463     L                297.4                    308.7   \n",
       "847     L                296.4                    307.4   \n",
       "1095    L                296.9                    307.5   \n",
       "1391    L                298.9                    310.2   \n",
       "1784    L                298.3                    308.0   \n",
       "1808    L                298.1                    307.7   \n",
       "3140    H                300.4                    309.9   \n",
       "3369    L                301.5                    310.9   \n",
       "3457    M                301.5                    310.4   \n",
       "3579    L                301.8                    310.6   \n",
       "3867    M                302.7                    311.6   \n",
       "4048    L                301.9                    311.0   \n",
       "4296    L                301.8                    310.2   \n",
       "4302    L                301.7                    310.1   \n",
       "4419    M                302.6                    310.2   \n",
       "4762    M                303.7                    312.0   \n",
       "4997    M                303.6                    312.8   \n",
       "5152    L                304.3                    313.5   \n",
       "5334    M                303.4                    312.6   \n",
       "6799    M                301.1                    310.7   \n",
       "7011    L                300.5                    310.5   \n",
       "7536    L                300.1                    311.3   \n",
       "7997    M                301.0                    312.2   \n",
       "8398    L                298.5                    309.7   \n",
       "9939    H                298.3                    308.1   \n",
       "\n",
       "      Rotational speed [rpm]  Torque [Nm]  Tool wear [min]  Target  \\\n",
       "50                      2861          4.6              143       1   \n",
       "194                     2678         10.7               86       1   \n",
       "380                     2564         12.8              127       1   \n",
       "463                     2874          4.2              118       1   \n",
       "847                     2833          5.6              213       1   \n",
       "1095                    2721          9.3               18       1   \n",
       "1391                    2737          8.8              142       1   \n",
       "1784                    2886          3.8               57       1   \n",
       "1808                    2567         12.8              125       1   \n",
       "3140                    2563         12.8               81       1   \n",
       "3369                    2760          8.0               15       1   \n",
       "3457                    2639         12.0               21       1   \n",
       "3579                    2672         11.8              124       1   \n",
       "3867                    2709          9.7                2       1   \n",
       "4048                    2691         12.1               31       1   \n",
       "4296                    2825          5.8              215       1   \n",
       "4302                    2695         12.6               10       0   \n",
       "4419                    2676         10.8               84       1   \n",
       "4762                    2663         11.4               71       1   \n",
       "4997                    2659         11.4               26       1   \n",
       "5152                    2643         12.7               21       0   \n",
       "5334                    2706          9.8               65       1   \n",
       "6799                    2636         12.2              100       1   \n",
       "7011                    2633         12.2               17       1   \n",
       "7536                    2579         12.5               64       1   \n",
       "7997                    2710          9.7              143       1   \n",
       "8398                    2617         12.1              102       1   \n",
       "9939                    2636         12.8               84       0   \n",
       "\n",
       "       Failure Type  \n",
       "50    Power Failure  \n",
       "194   Power Failure  \n",
       "380   Power Failure  \n",
       "463   Power Failure  \n",
       "847   Power Failure  \n",
       "1095  Power Failure  \n",
       "1391  Power Failure  \n",
       "1784  Power Failure  \n",
       "1808  Power Failure  \n",
       "3140  Power Failure  \n",
       "3369  Power Failure  \n",
       "3457  Power Failure  \n",
       "3579  Power Failure  \n",
       "3867  Power Failure  \n",
       "4048  Power Failure  \n",
       "4296  Power Failure  \n",
       "4302     No Failure  \n",
       "4419  Power Failure  \n",
       "4762  Power Failure  \n",
       "4997  Power Failure  \n",
       "5152     No Failure  \n",
       "5334  Power Failure  \n",
       "6799  Power Failure  \n",
       "7011  Power Failure  \n",
       "7536  Power Failure  \n",
       "7997  Power Failure  \n",
       "8398  Power Failure  \n",
       "9939     No Failure  "
      ]
     },
     "execution_count": 25,
     "metadata": {},
     "output_type": "execute_result"
    }
   ],
   "source": [
    "df[(df['Torque [Nm]']<13)]"
   ]
  },
  {
   "cell_type": "code",
   "execution_count": 26,
   "id": "73afd9dc",
   "metadata": {},
   "outputs": [
    {
     "data": {
      "text/html": [
       "<div>\n",
       "<style scoped>\n",
       "    .dataframe tbody tr th:only-of-type {\n",
       "        vertical-align: middle;\n",
       "    }\n",
       "\n",
       "    .dataframe tbody tr th {\n",
       "        vertical-align: top;\n",
       "    }\n",
       "\n",
       "    .dataframe thead th {\n",
       "        text-align: right;\n",
       "    }\n",
       "</style>\n",
       "<table border=\"1\" class=\"dataframe\">\n",
       "  <thead>\n",
       "    <tr style=\"text-align: right;\">\n",
       "      <th></th>\n",
       "      <th>Type</th>\n",
       "      <th>Air temperature [K]</th>\n",
       "      <th>Process temperature [K]</th>\n",
       "      <th>Rotational speed [rpm]</th>\n",
       "      <th>Torque [Nm]</th>\n",
       "      <th>Tool wear [min]</th>\n",
       "      <th>Target</th>\n",
       "      <th>Failure Type</th>\n",
       "    </tr>\n",
       "  </thead>\n",
       "  <tbody>\n",
       "    <tr>\n",
       "      <th>603</th>\n",
       "      <td>L</td>\n",
       "      <td>297.9</td>\n",
       "      <td>309.8</td>\n",
       "      <td>1336</td>\n",
       "      <td>71.6</td>\n",
       "      <td>31</td>\n",
       "      <td>1</td>\n",
       "      <td>Power Failure</td>\n",
       "    </tr>\n",
       "    <tr>\n",
       "      <th>880</th>\n",
       "      <td>M</td>\n",
       "      <td>295.8</td>\n",
       "      <td>306.3</td>\n",
       "      <td>1235</td>\n",
       "      <td>76.2</td>\n",
       "      <td>89</td>\n",
       "      <td>1</td>\n",
       "      <td>Power Failure</td>\n",
       "    </tr>\n",
       "    <tr>\n",
       "      <th>1016</th>\n",
       "      <td>M</td>\n",
       "      <td>296.3</td>\n",
       "      <td>307.2</td>\n",
       "      <td>1319</td>\n",
       "      <td>68.3</td>\n",
       "      <td>24</td>\n",
       "      <td>1</td>\n",
       "      <td>Power Failure</td>\n",
       "    </tr>\n",
       "    <tr>\n",
       "      <th>1124</th>\n",
       "      <td>M</td>\n",
       "      <td>296.7</td>\n",
       "      <td>307.8</td>\n",
       "      <td>1258</td>\n",
       "      <td>69.0</td>\n",
       "      <td>105</td>\n",
       "      <td>1</td>\n",
       "      <td>Power Failure</td>\n",
       "    </tr>\n",
       "    <tr>\n",
       "      <th>1144</th>\n",
       "      <td>L</td>\n",
       "      <td>297.0</td>\n",
       "      <td>307.9</td>\n",
       "      <td>1296</td>\n",
       "      <td>69.1</td>\n",
       "      <td>153</td>\n",
       "      <td>1</td>\n",
       "      <td>Power Failure</td>\n",
       "    </tr>\n",
       "    <tr>\n",
       "      <th>1324</th>\n",
       "      <td>M</td>\n",
       "      <td>298.8</td>\n",
       "      <td>310.1</td>\n",
       "      <td>1243</td>\n",
       "      <td>74.5</td>\n",
       "      <td>194</td>\n",
       "      <td>1</td>\n",
       "      <td>Power Failure</td>\n",
       "    </tr>\n",
       "    <tr>\n",
       "      <th>1496</th>\n",
       "      <td>L</td>\n",
       "      <td>298.0</td>\n",
       "      <td>308.7</td>\n",
       "      <td>1268</td>\n",
       "      <td>69.4</td>\n",
       "      <td>189</td>\n",
       "      <td>1</td>\n",
       "      <td>Power Failure</td>\n",
       "    </tr>\n",
       "    <tr>\n",
       "      <th>2125</th>\n",
       "      <td>L</td>\n",
       "      <td>299.3</td>\n",
       "      <td>308.9</td>\n",
       "      <td>1258</td>\n",
       "      <td>69.4</td>\n",
       "      <td>119</td>\n",
       "      <td>1</td>\n",
       "      <td>Power Failure</td>\n",
       "    </tr>\n",
       "    <tr>\n",
       "      <th>2444</th>\n",
       "      <td>L</td>\n",
       "      <td>299.2</td>\n",
       "      <td>308.6</td>\n",
       "      <td>1267</td>\n",
       "      <td>68.2</td>\n",
       "      <td>76</td>\n",
       "      <td>1</td>\n",
       "      <td>Power Failure</td>\n",
       "    </tr>\n",
       "    <tr>\n",
       "      <th>3000</th>\n",
       "      <td>H</td>\n",
       "      <td>300.5</td>\n",
       "      <td>309.8</td>\n",
       "      <td>1324</td>\n",
       "      <td>72.8</td>\n",
       "      <td>159</td>\n",
       "      <td>1</td>\n",
       "      <td>Power Failure</td>\n",
       "    </tr>\n",
       "    <tr>\n",
       "      <th>3584</th>\n",
       "      <td>L</td>\n",
       "      <td>301.8</td>\n",
       "      <td>310.6</td>\n",
       "      <td>1192</td>\n",
       "      <td>68.9</td>\n",
       "      <td>135</td>\n",
       "      <td>0</td>\n",
       "      <td>No Failure</td>\n",
       "    </tr>\n",
       "    <tr>\n",
       "      <th>3935</th>\n",
       "      <td>M</td>\n",
       "      <td>302.6</td>\n",
       "      <td>311.6</td>\n",
       "      <td>1227</td>\n",
       "      <td>68.2</td>\n",
       "      <td>187</td>\n",
       "      <td>1</td>\n",
       "      <td>Overstrain Failure</td>\n",
       "    </tr>\n",
       "    <tr>\n",
       "      <th>4071</th>\n",
       "      <td>L</td>\n",
       "      <td>301.9</td>\n",
       "      <td>310.6</td>\n",
       "      <td>1331</td>\n",
       "      <td>68.6</td>\n",
       "      <td>85</td>\n",
       "      <td>1</td>\n",
       "      <td>Power Failure</td>\n",
       "    </tr>\n",
       "    <tr>\n",
       "      <th>4342</th>\n",
       "      <td>M</td>\n",
       "      <td>301.7</td>\n",
       "      <td>309.8</td>\n",
       "      <td>1284</td>\n",
       "      <td>68.2</td>\n",
       "      <td>111</td>\n",
       "      <td>1</td>\n",
       "      <td>Power Failure</td>\n",
       "    </tr>\n",
       "    <tr>\n",
       "      <th>4920</th>\n",
       "      <td>L</td>\n",
       "      <td>303.4</td>\n",
       "      <td>312.2</td>\n",
       "      <td>1337</td>\n",
       "      <td>69.4</td>\n",
       "      <td>52</td>\n",
       "      <td>1</td>\n",
       "      <td>Power Failure</td>\n",
       "    </tr>\n",
       "    <tr>\n",
       "      <th>4936</th>\n",
       "      <td>L</td>\n",
       "      <td>303.5</td>\n",
       "      <td>312.4</td>\n",
       "      <td>1284</td>\n",
       "      <td>70.6</td>\n",
       "      <td>94</td>\n",
       "      <td>1</td>\n",
       "      <td>Power Failure</td>\n",
       "    </tr>\n",
       "    <tr>\n",
       "      <th>5048</th>\n",
       "      <td>H</td>\n",
       "      <td>304.0</td>\n",
       "      <td>313.2</td>\n",
       "      <td>1271</td>\n",
       "      <td>68.6</td>\n",
       "      <td>161</td>\n",
       "      <td>1</td>\n",
       "      <td>Power Failure</td>\n",
       "    </tr>\n",
       "    <tr>\n",
       "      <th>5394</th>\n",
       "      <td>M</td>\n",
       "      <td>302.8</td>\n",
       "      <td>312.3</td>\n",
       "      <td>1262</td>\n",
       "      <td>70.5</td>\n",
       "      <td>234</td>\n",
       "      <td>1</td>\n",
       "      <td>Power Failure</td>\n",
       "    </tr>\n",
       "    <tr>\n",
       "      <th>5490</th>\n",
       "      <td>L</td>\n",
       "      <td>302.6</td>\n",
       "      <td>312.1</td>\n",
       "      <td>1288</td>\n",
       "      <td>68.5</td>\n",
       "      <td>0</td>\n",
       "      <td>1</td>\n",
       "      <td>Power Failure</td>\n",
       "    </tr>\n",
       "    <tr>\n",
       "      <th>5615</th>\n",
       "      <td>M</td>\n",
       "      <td>303.0</td>\n",
       "      <td>312.2</td>\n",
       "      <td>1257</td>\n",
       "      <td>71.3</td>\n",
       "      <td>122</td>\n",
       "      <td>1</td>\n",
       "      <td>Power Failure</td>\n",
       "    </tr>\n",
       "    <tr>\n",
       "      <th>5706</th>\n",
       "      <td>L</td>\n",
       "      <td>302.4</td>\n",
       "      <td>311.9</td>\n",
       "      <td>1290</td>\n",
       "      <td>70.0</td>\n",
       "      <td>139</td>\n",
       "      <td>1</td>\n",
       "      <td>Power Failure</td>\n",
       "    </tr>\n",
       "    <tr>\n",
       "      <th>6525</th>\n",
       "      <td>L</td>\n",
       "      <td>301.1</td>\n",
       "      <td>310.4</td>\n",
       "      <td>1312</td>\n",
       "      <td>73.6</td>\n",
       "      <td>49</td>\n",
       "      <td>1</td>\n",
       "      <td>Power Failure</td>\n",
       "    </tr>\n",
       "    <tr>\n",
       "      <th>6612</th>\n",
       "      <td>L</td>\n",
       "      <td>301.6</td>\n",
       "      <td>310.6</td>\n",
       "      <td>1222</td>\n",
       "      <td>70.0</td>\n",
       "      <td>62</td>\n",
       "      <td>0</td>\n",
       "      <td>No Failure</td>\n",
       "    </tr>\n",
       "    <tr>\n",
       "      <th>7280</th>\n",
       "      <td>L</td>\n",
       "      <td>299.9</td>\n",
       "      <td>310.2</td>\n",
       "      <td>1288</td>\n",
       "      <td>69.6</td>\n",
       "      <td>62</td>\n",
       "      <td>1</td>\n",
       "      <td>Power Failure</td>\n",
       "    </tr>\n",
       "    <tr>\n",
       "      <th>7569</th>\n",
       "      <td>L</td>\n",
       "      <td>300.2</td>\n",
       "      <td>311.0</td>\n",
       "      <td>1255</td>\n",
       "      <td>71.8</td>\n",
       "      <td>149</td>\n",
       "      <td>1</td>\n",
       "      <td>Power Failure</td>\n",
       "    </tr>\n",
       "    <tr>\n",
       "      <th>7763</th>\n",
       "      <td>L</td>\n",
       "      <td>300.4</td>\n",
       "      <td>311.6</td>\n",
       "      <td>1200</td>\n",
       "      <td>76.6</td>\n",
       "      <td>3</td>\n",
       "      <td>1</td>\n",
       "      <td>Power Failure</td>\n",
       "    </tr>\n",
       "    <tr>\n",
       "      <th>8245</th>\n",
       "      <td>M</td>\n",
       "      <td>299.0</td>\n",
       "      <td>310.3</td>\n",
       "      <td>1303</td>\n",
       "      <td>68.6</td>\n",
       "      <td>111</td>\n",
       "      <td>1</td>\n",
       "      <td>Power Failure</td>\n",
       "    </tr>\n",
       "    <tr>\n",
       "      <th>8307</th>\n",
       "      <td>M</td>\n",
       "      <td>298.7</td>\n",
       "      <td>310.1</td>\n",
       "      <td>1402</td>\n",
       "      <td>69.7</td>\n",
       "      <td>64</td>\n",
       "      <td>1</td>\n",
       "      <td>Power Failure</td>\n",
       "    </tr>\n",
       "    <tr>\n",
       "      <th>8582</th>\n",
       "      <td>M</td>\n",
       "      <td>297.5</td>\n",
       "      <td>308.1</td>\n",
       "      <td>1334</td>\n",
       "      <td>72.0</td>\n",
       "      <td>151</td>\n",
       "      <td>1</td>\n",
       "      <td>Power Failure</td>\n",
       "    </tr>\n",
       "    <tr>\n",
       "      <th>9084</th>\n",
       "      <td>L</td>\n",
       "      <td>297.2</td>\n",
       "      <td>307.9</td>\n",
       "      <td>1326</td>\n",
       "      <td>75.4</td>\n",
       "      <td>172</td>\n",
       "      <td>1</td>\n",
       "      <td>Power Failure</td>\n",
       "    </tr>\n",
       "    <tr>\n",
       "      <th>9974</th>\n",
       "      <td>L</td>\n",
       "      <td>298.6</td>\n",
       "      <td>308.2</td>\n",
       "      <td>1361</td>\n",
       "      <td>68.2</td>\n",
       "      <td>172</td>\n",
       "      <td>1</td>\n",
       "      <td>Power Failure</td>\n",
       "    </tr>\n",
       "  </tbody>\n",
       "</table>\n",
       "</div>"
      ],
      "text/plain": [
       "     Type  Air temperature [K]  Process temperature [K]  \\\n",
       "603     L                297.9                    309.8   \n",
       "880     M                295.8                    306.3   \n",
       "1016    M                296.3                    307.2   \n",
       "1124    M                296.7                    307.8   \n",
       "1144    L                297.0                    307.9   \n",
       "1324    M                298.8                    310.1   \n",
       "1496    L                298.0                    308.7   \n",
       "2125    L                299.3                    308.9   \n",
       "2444    L                299.2                    308.6   \n",
       "3000    H                300.5                    309.8   \n",
       "3584    L                301.8                    310.6   \n",
       "3935    M                302.6                    311.6   \n",
       "4071    L                301.9                    310.6   \n",
       "4342    M                301.7                    309.8   \n",
       "4920    L                303.4                    312.2   \n",
       "4936    L                303.5                    312.4   \n",
       "5048    H                304.0                    313.2   \n",
       "5394    M                302.8                    312.3   \n",
       "5490    L                302.6                    312.1   \n",
       "5615    M                303.0                    312.2   \n",
       "5706    L                302.4                    311.9   \n",
       "6525    L                301.1                    310.4   \n",
       "6612    L                301.6                    310.6   \n",
       "7280    L                299.9                    310.2   \n",
       "7569    L                300.2                    311.0   \n",
       "7763    L                300.4                    311.6   \n",
       "8245    M                299.0                    310.3   \n",
       "8307    M                298.7                    310.1   \n",
       "8582    M                297.5                    308.1   \n",
       "9084    L                297.2                    307.9   \n",
       "9974    L                298.6                    308.2   \n",
       "\n",
       "      Rotational speed [rpm]  Torque [Nm]  Tool wear [min]  Target  \\\n",
       "603                     1336         71.6               31       1   \n",
       "880                     1235         76.2               89       1   \n",
       "1016                    1319         68.3               24       1   \n",
       "1124                    1258         69.0              105       1   \n",
       "1144                    1296         69.1              153       1   \n",
       "1324                    1243         74.5              194       1   \n",
       "1496                    1268         69.4              189       1   \n",
       "2125                    1258         69.4              119       1   \n",
       "2444                    1267         68.2               76       1   \n",
       "3000                    1324         72.8              159       1   \n",
       "3584                    1192         68.9              135       0   \n",
       "3935                    1227         68.2              187       1   \n",
       "4071                    1331         68.6               85       1   \n",
       "4342                    1284         68.2              111       1   \n",
       "4920                    1337         69.4               52       1   \n",
       "4936                    1284         70.6               94       1   \n",
       "5048                    1271         68.6              161       1   \n",
       "5394                    1262         70.5              234       1   \n",
       "5490                    1288         68.5                0       1   \n",
       "5615                    1257         71.3              122       1   \n",
       "5706                    1290         70.0              139       1   \n",
       "6525                    1312         73.6               49       1   \n",
       "6612                    1222         70.0               62       0   \n",
       "7280                    1288         69.6               62       1   \n",
       "7569                    1255         71.8              149       1   \n",
       "7763                    1200         76.6                3       1   \n",
       "8245                    1303         68.6              111       1   \n",
       "8307                    1402         69.7               64       1   \n",
       "8582                    1334         72.0              151       1   \n",
       "9084                    1326         75.4              172       1   \n",
       "9974                    1361         68.2              172       1   \n",
       "\n",
       "            Failure Type  \n",
       "603        Power Failure  \n",
       "880        Power Failure  \n",
       "1016       Power Failure  \n",
       "1124       Power Failure  \n",
       "1144       Power Failure  \n",
       "1324       Power Failure  \n",
       "1496       Power Failure  \n",
       "2125       Power Failure  \n",
       "2444       Power Failure  \n",
       "3000       Power Failure  \n",
       "3584          No Failure  \n",
       "3935  Overstrain Failure  \n",
       "4071       Power Failure  \n",
       "4342       Power Failure  \n",
       "4920       Power Failure  \n",
       "4936       Power Failure  \n",
       "5048       Power Failure  \n",
       "5394       Power Failure  \n",
       "5490       Power Failure  \n",
       "5615       Power Failure  \n",
       "5706       Power Failure  \n",
       "6525       Power Failure  \n",
       "6612          No Failure  \n",
       "7280       Power Failure  \n",
       "7569       Power Failure  \n",
       "7763       Power Failure  \n",
       "8245       Power Failure  \n",
       "8307       Power Failure  \n",
       "8582       Power Failure  \n",
       "9084       Power Failure  \n",
       "9974       Power Failure  "
      ]
     },
     "execution_count": 26,
     "metadata": {},
     "output_type": "execute_result"
    }
   ],
   "source": [
    "df[(df['Torque [Nm]']>68)]"
   ]
  },
  {
   "cell_type": "markdown",
   "id": "ff7a31f8",
   "metadata": {},
   "source": [
    "- Si le moment de torsion est inférieur à 14 Nm et la vitesse de rotation est supérieur à 2500 rpm on a souvent une panne de courant.\n",
    "- Si le moment de torsion est supérieur à 68 Nm on a souvent une panne de courant."
   ]
  },
  {
   "cell_type": "code",
   "execution_count": 27,
   "id": "6ac5e9cf",
   "metadata": {},
   "outputs": [
    {
     "data": {
      "text/plain": [
       "308"
      ]
     },
     "execution_count": 27,
     "metadata": {},
     "output_type": "execute_result"
    }
   ],
   "source": [
    "df[df['Rotational speed [rpm]']>1950].shape[0]"
   ]
  },
  {
   "cell_type": "code",
   "execution_count": 28,
   "id": "98437312",
   "metadata": {},
   "outputs": [
    {
     "data": {
      "text/plain": [
       "No Failure           274\n",
       "Power Failure         31\n",
       "Tool Wear Failure      3\n",
       "Name: Failure Type, dtype: int64"
      ]
     },
     "execution_count": 28,
     "metadata": {},
     "output_type": "execute_result"
    }
   ],
   "source": [
    "df[df['Rotational speed [rpm]']>1950]['Failure Type'].value_counts()"
   ]
  },
  {
   "cell_type": "markdown",
   "id": "a498ce3b",
   "metadata": {},
   "source": [
    "- 308 des machines ont une vitesse supérieur à 1950 Nm dont 31 ont eu une panne de courant càd à peu près 32%(31/95) des machines qui ont eu ce type de panne dans la dataset.\n",
    "- Les valeurs aberrantes dans notre dataset ne sont pas des fautes."
   ]
  },
  {
   "cell_type": "code",
   "execution_count": 29,
   "id": "77db2b05",
   "metadata": {},
   "outputs": [
    {
     "data": {
      "text/html": [
       "<div>\n",
       "<style scoped>\n",
       "    .dataframe tbody tr th:only-of-type {\n",
       "        vertical-align: middle;\n",
       "    }\n",
       "\n",
       "    .dataframe tbody tr th {\n",
       "        vertical-align: top;\n",
       "    }\n",
       "\n",
       "    .dataframe thead th {\n",
       "        text-align: right;\n",
       "    }\n",
       "</style>\n",
       "<table border=\"1\" class=\"dataframe\">\n",
       "  <thead>\n",
       "    <tr style=\"text-align: right;\">\n",
       "      <th></th>\n",
       "      <th>Air temperature [K]</th>\n",
       "      <th>Process temperature [K]</th>\n",
       "      <th>Rotational speed [rpm]</th>\n",
       "      <th>Torque [Nm]</th>\n",
       "      <th>Tool wear [min]</th>\n",
       "    </tr>\n",
       "    <tr>\n",
       "      <th>Target</th>\n",
       "      <th></th>\n",
       "      <th></th>\n",
       "      <th></th>\n",
       "      <th></th>\n",
       "      <th></th>\n",
       "    </tr>\n",
       "  </thead>\n",
       "  <tbody>\n",
       "    <tr>\n",
       "      <th>0</th>\n",
       "      <td>300.0</td>\n",
       "      <td>310.0</td>\n",
       "      <td>1507.0</td>\n",
       "      <td>39.80</td>\n",
       "      <td>107.0</td>\n",
       "    </tr>\n",
       "    <tr>\n",
       "      <th>1</th>\n",
       "      <td>301.6</td>\n",
       "      <td>310.4</td>\n",
       "      <td>1363.5</td>\n",
       "      <td>53.85</td>\n",
       "      <td>167.0</td>\n",
       "    </tr>\n",
       "  </tbody>\n",
       "</table>\n",
       "</div>"
      ],
      "text/plain": [
       "        Air temperature [K]  Process temperature [K]  Rotational speed [rpm]  \\\n",
       "Target                                                                         \n",
       "0                     300.0                    310.0                  1507.0   \n",
       "1                     301.6                    310.4                  1363.5   \n",
       "\n",
       "        Torque [Nm]  Tool wear [min]  \n",
       "Target                                \n",
       "0             39.80            107.0  \n",
       "1             53.85            167.0  "
      ]
     },
     "execution_count": 29,
     "metadata": {},
     "output_type": "execute_result"
    }
   ],
   "source": [
    "df.groupby(['Target']).median(numeric_only=True)"
   ]
  },
  {
   "cell_type": "code",
   "execution_count": 30,
   "id": "7e512020",
   "metadata": {},
   "outputs": [
    {
     "data": {
      "text/html": [
       "<div>\n",
       "<style scoped>\n",
       "    .dataframe tbody tr th:only-of-type {\n",
       "        vertical-align: middle;\n",
       "    }\n",
       "\n",
       "    .dataframe tbody tr th {\n",
       "        vertical-align: top;\n",
       "    }\n",
       "\n",
       "    .dataframe thead th {\n",
       "        text-align: right;\n",
       "    }\n",
       "</style>\n",
       "<table border=\"1\" class=\"dataframe\">\n",
       "  <thead>\n",
       "    <tr style=\"text-align: right;\">\n",
       "      <th></th>\n",
       "      <th>Air temperature [K]</th>\n",
       "      <th>Process temperature [K]</th>\n",
       "      <th>Rotational speed [rpm]</th>\n",
       "      <th>Torque [Nm]</th>\n",
       "      <th>Tool wear [min]</th>\n",
       "      <th>Target</th>\n",
       "    </tr>\n",
       "    <tr>\n",
       "      <th>Failure Type</th>\n",
       "      <th></th>\n",
       "      <th></th>\n",
       "      <th></th>\n",
       "      <th></th>\n",
       "      <th></th>\n",
       "      <th></th>\n",
       "    </tr>\n",
       "  </thead>\n",
       "  <tbody>\n",
       "    <tr>\n",
       "      <th>Heat Dissipation Failure</th>\n",
       "      <td>302.45</td>\n",
       "      <td>310.7</td>\n",
       "      <td>1346.0</td>\n",
       "      <td>52.35</td>\n",
       "      <td>106.0</td>\n",
       "      <td>1.0</td>\n",
       "    </tr>\n",
       "    <tr>\n",
       "      <th>No Failure</th>\n",
       "      <td>300.00</td>\n",
       "      <td>310.0</td>\n",
       "      <td>1507.0</td>\n",
       "      <td>39.80</td>\n",
       "      <td>107.0</td>\n",
       "      <td>0.0</td>\n",
       "    </tr>\n",
       "    <tr>\n",
       "      <th>Overstrain Failure</th>\n",
       "      <td>299.45</td>\n",
       "      <td>310.1</td>\n",
       "      <td>1362.5</td>\n",
       "      <td>56.75</td>\n",
       "      <td>207.0</td>\n",
       "      <td>1.0</td>\n",
       "    </tr>\n",
       "    <tr>\n",
       "      <th>Power Failure</th>\n",
       "      <td>300.40</td>\n",
       "      <td>310.2</td>\n",
       "      <td>1386.0</td>\n",
       "      <td>63.60</td>\n",
       "      <td>100.0</td>\n",
       "      <td>1.0</td>\n",
       "    </tr>\n",
       "    <tr>\n",
       "      <th>Tool Wear Failure</th>\n",
       "      <td>300.40</td>\n",
       "      <td>310.3</td>\n",
       "      <td>1521.0</td>\n",
       "      <td>37.70</td>\n",
       "      <td>215.0</td>\n",
       "      <td>1.0</td>\n",
       "    </tr>\n",
       "  </tbody>\n",
       "</table>\n",
       "</div>"
      ],
      "text/plain": [
       "                          Air temperature [K]  Process temperature [K]  \\\n",
       "Failure Type                                                             \n",
       "Heat Dissipation Failure               302.45                    310.7   \n",
       "No Failure                             300.00                    310.0   \n",
       "Overstrain Failure                     299.45                    310.1   \n",
       "Power Failure                          300.40                    310.2   \n",
       "Tool Wear Failure                      300.40                    310.3   \n",
       "\n",
       "                          Rotational speed [rpm]  Torque [Nm]  \\\n",
       "Failure Type                                                    \n",
       "Heat Dissipation Failure                  1346.0        52.35   \n",
       "No Failure                                1507.0        39.80   \n",
       "Overstrain Failure                        1362.5        56.75   \n",
       "Power Failure                             1386.0        63.60   \n",
       "Tool Wear Failure                         1521.0        37.70   \n",
       "\n",
       "                          Tool wear [min]  Target  \n",
       "Failure Type                                       \n",
       "Heat Dissipation Failure            106.0     1.0  \n",
       "No Failure                          107.0     0.0  \n",
       "Overstrain Failure                  207.0     1.0  \n",
       "Power Failure                       100.0     1.0  \n",
       "Tool Wear Failure                   215.0     1.0  "
      ]
     },
     "execution_count": 30,
     "metadata": {},
     "output_type": "execute_result"
    }
   ],
   "source": [
    "df.groupby(['Failure Type']).median(numeric_only=True)"
   ]
  },
  {
   "cell_type": "markdown",
   "id": "0b23c8b1",
   "metadata": {},
   "source": [
    "### Correlation between variables"
   ]
  },
  {
   "cell_type": "code",
   "execution_count": 31,
   "id": "c059e5e1",
   "metadata": {},
   "outputs": [
    {
     "data": {
      "text/plain": [
       "<Axes: >"
      ]
     },
     "execution_count": 31,
     "metadata": {},
     "output_type": "execute_result"
    },
    {
     "data": {
      "image/png": "[encoded data removed]",
      "text/plain": [
       "<Figure size 640x480 with 2 Axes>"
      ]
     },
     "metadata": {},
     "output_type": "display_data"
    }
   ],
   "source": [
    "corr=df.corr(numeric_only=True)\n",
    "sns.heatmap(corr,cbar=True,fmt='.2f',annot=True,cmap='Blues')"
   ]
  },
  {
   "cell_type": "markdown",
   "id": "82d39272",
   "metadata": {},
   "source": [
    "- Il exite une forte corrélation entre les variables température de l'air et température du processus."
   ]
  },
  {
   "cell_type": "markdown",
   "id": "d37e77bd",
   "metadata": {},
   "source": [
    "## Feature Engineering"
   ]
  },
  {
   "cell_type": "markdown",
   "id": "ca4ff804",
   "metadata": {},
   "source": [
    "- On va créer des nouvelles variables:\n",
    "- Difference of temperatures = Air temperature - Process temperature\n",
    "- Power = 0.105 * Rotational speed * Torque\n",
    "- Overstrain = Torque * Tool wear"
   ]
  },
  {
   "cell_type": "code",
   "execution_count": 32,
   "id": "73ad9b65",
   "metadata": {},
   "outputs": [
    {
     "data": {
      "text/html": [
       "<div>\n",
       "<style scoped>\n",
       "    .dataframe tbody tr th:only-of-type {\n",
       "        vertical-align: middle;\n",
       "    }\n",
       "\n",
       "    .dataframe tbody tr th {\n",
       "        vertical-align: top;\n",
       "    }\n",
       "\n",
       "    .dataframe thead th {\n",
       "        text-align: right;\n",
       "    }\n",
       "</style>\n",
       "<table border=\"1\" class=\"dataframe\">\n",
       "  <thead>\n",
       "    <tr style=\"text-align: right;\">\n",
       "      <th></th>\n",
       "      <th>Type</th>\n",
       "      <th>Air temperature [K]</th>\n",
       "      <th>Process temperature [K]</th>\n",
       "      <th>Rotational speed [rpm]</th>\n",
       "      <th>Torque [Nm]</th>\n",
       "      <th>Tool wear [min]</th>\n",
       "      <th>Target</th>\n",
       "      <th>Failure Type</th>\n",
       "      <th>Difference of temperature [K]</th>\n",
       "      <th>Power [W]</th>\n",
       "      <th>Overstrain</th>\n",
       "    </tr>\n",
       "  </thead>\n",
       "  <tbody>\n",
       "    <tr>\n",
       "      <th>0</th>\n",
       "      <td>M</td>\n",
       "      <td>298.1</td>\n",
       "      <td>308.6</td>\n",
       "      <td>1551</td>\n",
       "      <td>42.8</td>\n",
       "      <td>0</td>\n",
       "      <td>0</td>\n",
       "      <td>No Failure</td>\n",
       "      <td>10.5</td>\n",
       "      <td>6970.1940</td>\n",
       "      <td>0.0</td>\n",
       "    </tr>\n",
       "    <tr>\n",
       "      <th>1</th>\n",
       "      <td>L</td>\n",
       "      <td>298.2</td>\n",
       "      <td>308.7</td>\n",
       "      <td>1408</td>\n",
       "      <td>46.3</td>\n",
       "      <td>3</td>\n",
       "      <td>0</td>\n",
       "      <td>No Failure</td>\n",
       "      <td>10.5</td>\n",
       "      <td>6844.9920</td>\n",
       "      <td>138.9</td>\n",
       "    </tr>\n",
       "    <tr>\n",
       "      <th>2</th>\n",
       "      <td>L</td>\n",
       "      <td>298.1</td>\n",
       "      <td>308.5</td>\n",
       "      <td>1498</td>\n",
       "      <td>49.4</td>\n",
       "      <td>5</td>\n",
       "      <td>0</td>\n",
       "      <td>No Failure</td>\n",
       "      <td>10.4</td>\n",
       "      <td>7770.1260</td>\n",
       "      <td>247.0</td>\n",
       "    </tr>\n",
       "    <tr>\n",
       "      <th>3</th>\n",
       "      <td>L</td>\n",
       "      <td>298.2</td>\n",
       "      <td>308.6</td>\n",
       "      <td>1433</td>\n",
       "      <td>39.5</td>\n",
       "      <td>7</td>\n",
       "      <td>0</td>\n",
       "      <td>No Failure</td>\n",
       "      <td>10.4</td>\n",
       "      <td>5943.3675</td>\n",
       "      <td>276.5</td>\n",
       "    </tr>\n",
       "    <tr>\n",
       "      <th>4</th>\n",
       "      <td>L</td>\n",
       "      <td>298.2</td>\n",
       "      <td>308.7</td>\n",
       "      <td>1408</td>\n",
       "      <td>40.0</td>\n",
       "      <td>9</td>\n",
       "      <td>0</td>\n",
       "      <td>No Failure</td>\n",
       "      <td>10.5</td>\n",
       "      <td>5913.6000</td>\n",
       "      <td>360.0</td>\n",
       "    </tr>\n",
       "  </tbody>\n",
       "</table>\n",
       "</div>"
      ],
      "text/plain": [
       "  Type  Air temperature [K]  Process temperature [K]  Rotational speed [rpm]  \\\n",
       "0    M                298.1                    308.6                    1551   \n",
       "1    L                298.2                    308.7                    1408   \n",
       "2    L                298.1                    308.5                    1498   \n",
       "3    L                298.2                    308.6                    1433   \n",
       "4    L                298.2                    308.7                    1408   \n",
       "\n",
       "   Torque [Nm]  Tool wear [min]  Target Failure Type  \\\n",
       "0         42.8                0       0   No Failure   \n",
       "1         46.3                3       0   No Failure   \n",
       "2         49.4                5       0   No Failure   \n",
       "3         39.5                7       0   No Failure   \n",
       "4         40.0                9       0   No Failure   \n",
       "\n",
       "   Difference of temperature [K]  Power [W]  Overstrain  \n",
       "0                           10.5  6970.1940         0.0  \n",
       "1                           10.5  6844.9920       138.9  \n",
       "2                           10.4  7770.1260       247.0  \n",
       "3                           10.4  5943.3675       276.5  \n",
       "4                           10.5  5913.6000       360.0  "
      ]
     },
     "execution_count": 32,
     "metadata": {},
     "output_type": "execute_result"
    }
   ],
   "source": [
    "df['Difference of temperature [K]']=df['Process temperature [K]']-df['Air temperature [K]']\n",
    "df['Power [W]']=0.105*df['Torque [Nm]']*df['Rotational speed [rpm]']\n",
    "df['Overstrain']=df['Tool wear [min]']*df['Torque [Nm]']\n",
    "df.head()"
   ]
  },
  {
   "cell_type": "markdown",
   "id": "92230c54",
   "metadata": {},
   "source": [
    "- On va supprimer les colonnes Air temperature, Process temperature, Rotational speed et Torque."
   ]
  },
  {
   "cell_type": "code",
   "execution_count": 33,
   "id": "99f60e9a",
   "metadata": {},
   "outputs": [
    {
     "data": {
      "text/html": [
       "<div>\n",
       "<style scoped>\n",
       "    .dataframe tbody tr th:only-of-type {\n",
       "        vertical-align: middle;\n",
       "    }\n",
       "\n",
       "    .dataframe tbody tr th {\n",
       "        vertical-align: top;\n",
       "    }\n",
       "\n",
       "    .dataframe thead th {\n",
       "        text-align: right;\n",
       "    }\n",
       "</style>\n",
       "<table border=\"1\" class=\"dataframe\">\n",
       "  <thead>\n",
       "    <tr style=\"text-align: right;\">\n",
       "      <th></th>\n",
       "      <th>Type</th>\n",
       "      <th>Tool wear [min]</th>\n",
       "      <th>Target</th>\n",
       "      <th>Failure Type</th>\n",
       "      <th>Difference of temperature [K]</th>\n",
       "      <th>Power [W]</th>\n",
       "      <th>Overstrain</th>\n",
       "    </tr>\n",
       "  </thead>\n",
       "  <tbody>\n",
       "    <tr>\n",
       "      <th>0</th>\n",
       "      <td>M</td>\n",
       "      <td>0</td>\n",
       "      <td>0</td>\n",
       "      <td>No Failure</td>\n",
       "      <td>10.5</td>\n",
       "      <td>6970.1940</td>\n",
       "      <td>0.0</td>\n",
       "    </tr>\n",
       "    <tr>\n",
       "      <th>1</th>\n",
       "      <td>L</td>\n",
       "      <td>3</td>\n",
       "      <td>0</td>\n",
       "      <td>No Failure</td>\n",
       "      <td>10.5</td>\n",
       "      <td>6844.9920</td>\n",
       "      <td>138.9</td>\n",
       "    </tr>\n",
       "    <tr>\n",
       "      <th>2</th>\n",
       "      <td>L</td>\n",
       "      <td>5</td>\n",
       "      <td>0</td>\n",
       "      <td>No Failure</td>\n",
       "      <td>10.4</td>\n",
       "      <td>7770.1260</td>\n",
       "      <td>247.0</td>\n",
       "    </tr>\n",
       "    <tr>\n",
       "      <th>3</th>\n",
       "      <td>L</td>\n",
       "      <td>7</td>\n",
       "      <td>0</td>\n",
       "      <td>No Failure</td>\n",
       "      <td>10.4</td>\n",
       "      <td>5943.3675</td>\n",
       "      <td>276.5</td>\n",
       "    </tr>\n",
       "    <tr>\n",
       "      <th>4</th>\n",
       "      <td>L</td>\n",
       "      <td>9</td>\n",
       "      <td>0</td>\n",
       "      <td>No Failure</td>\n",
       "      <td>10.5</td>\n",
       "      <td>5913.6000</td>\n",
       "      <td>360.0</td>\n",
       "    </tr>\n",
       "  </tbody>\n",
       "</table>\n",
       "</div>"
      ],
      "text/plain": [
       "  Type  Tool wear [min]  Target Failure Type  Difference of temperature [K]  \\\n",
       "0    M                0       0   No Failure                           10.5   \n",
       "1    L                3       0   No Failure                           10.5   \n",
       "2    L                5       0   No Failure                           10.4   \n",
       "3    L                7       0   No Failure                           10.4   \n",
       "4    L                9       0   No Failure                           10.5   \n",
       "\n",
       "   Power [W]  Overstrain  \n",
       "0  6970.1940         0.0  \n",
       "1  6844.9920       138.9  \n",
       "2  7770.1260       247.0  \n",
       "3  5943.3675       276.5  \n",
       "4  5913.6000       360.0  "
      ]
     },
     "execution_count": 33,
     "metadata": {},
     "output_type": "execute_result"
    }
   ],
   "source": [
    "df1=df.copy()\n",
    "df1=df1.drop(['Air temperature [K]','Process temperature [K]','Rotational speed [rpm]','Torque [Nm]'],axis=1)\n",
    "df1.head()"
   ]
  },
  {
   "cell_type": "markdown",
   "id": "35b2fe3f",
   "metadata": {},
   "source": [
    "- On va ajouter ensuite des variables polynomiales."
   ]
  },
  {
   "cell_type": "markdown",
   "id": "b4d5ea76",
   "metadata": {},
   "source": [
    "## Data Preprocessing "
   ]
  },
  {
   "cell_type": "markdown",
   "id": "736e41f4",
   "metadata": {},
   "source": [
    "- Nous devons encoder les variables catégorielles"
   ]
  },
  {
   "cell_type": "code",
   "execution_count": 34,
   "id": "a3cb5256",
   "metadata": {},
   "outputs": [
    {
     "data": {
      "text/html": [
       "<div>\n",
       "<style scoped>\n",
       "    .dataframe tbody tr th:only-of-type {\n",
       "        vertical-align: middle;\n",
       "    }\n",
       "\n",
       "    .dataframe tbody tr th {\n",
       "        vertical-align: top;\n",
       "    }\n",
       "\n",
       "    .dataframe thead th {\n",
       "        text-align: right;\n",
       "    }\n",
       "</style>\n",
       "<table border=\"1\" class=\"dataframe\">\n",
       "  <thead>\n",
       "    <tr style=\"text-align: right;\">\n",
       "      <th></th>\n",
       "      <th>Air temperature [K]</th>\n",
       "      <th>Process temperature [K]</th>\n",
       "      <th>Rotational speed [rpm]</th>\n",
       "      <th>Torque [Nm]</th>\n",
       "      <th>Tool wear [min]</th>\n",
       "      <th>Target</th>\n",
       "      <th>Failure Type</th>\n",
       "      <th>Difference of temperature [K]</th>\n",
       "      <th>Power [W]</th>\n",
       "      <th>Overstrain</th>\n",
       "      <th>Type_H</th>\n",
       "      <th>Type_L</th>\n",
       "      <th>Type_M</th>\n",
       "    </tr>\n",
       "  </thead>\n",
       "  <tbody>\n",
       "    <tr>\n",
       "      <th>0</th>\n",
       "      <td>298.1</td>\n",
       "      <td>308.6</td>\n",
       "      <td>1551</td>\n",
       "      <td>42.8</td>\n",
       "      <td>0</td>\n",
       "      <td>0</td>\n",
       "      <td>0</td>\n",
       "      <td>10.5</td>\n",
       "      <td>6970.1940</td>\n",
       "      <td>0.0</td>\n",
       "      <td>0</td>\n",
       "      <td>0</td>\n",
       "      <td>1</td>\n",
       "    </tr>\n",
       "    <tr>\n",
       "      <th>1</th>\n",
       "      <td>298.2</td>\n",
       "      <td>308.7</td>\n",
       "      <td>1408</td>\n",
       "      <td>46.3</td>\n",
       "      <td>3</td>\n",
       "      <td>0</td>\n",
       "      <td>0</td>\n",
       "      <td>10.5</td>\n",
       "      <td>6844.9920</td>\n",
       "      <td>138.9</td>\n",
       "      <td>0</td>\n",
       "      <td>1</td>\n",
       "      <td>0</td>\n",
       "    </tr>\n",
       "    <tr>\n",
       "      <th>2</th>\n",
       "      <td>298.1</td>\n",
       "      <td>308.5</td>\n",
       "      <td>1498</td>\n",
       "      <td>49.4</td>\n",
       "      <td>5</td>\n",
       "      <td>0</td>\n",
       "      <td>0</td>\n",
       "      <td>10.4</td>\n",
       "      <td>7770.1260</td>\n",
       "      <td>247.0</td>\n",
       "      <td>0</td>\n",
       "      <td>1</td>\n",
       "      <td>0</td>\n",
       "    </tr>\n",
       "    <tr>\n",
       "      <th>3</th>\n",
       "      <td>298.2</td>\n",
       "      <td>308.6</td>\n",
       "      <td>1433</td>\n",
       "      <td>39.5</td>\n",
       "      <td>7</td>\n",
       "      <td>0</td>\n",
       "      <td>0</td>\n",
       "      <td>10.4</td>\n",
       "      <td>5943.3675</td>\n",
       "      <td>276.5</td>\n",
       "      <td>0</td>\n",
       "      <td>1</td>\n",
       "      <td>0</td>\n",
       "    </tr>\n",
       "    <tr>\n",
       "      <th>4</th>\n",
       "      <td>298.2</td>\n",
       "      <td>308.7</td>\n",
       "      <td>1408</td>\n",
       "      <td>40.0</td>\n",
       "      <td>9</td>\n",
       "      <td>0</td>\n",
       "      <td>0</td>\n",
       "      <td>10.5</td>\n",
       "      <td>5913.6000</td>\n",
       "      <td>360.0</td>\n",
       "      <td>0</td>\n",
       "      <td>1</td>\n",
       "      <td>0</td>\n",
       "    </tr>\n",
       "  </tbody>\n",
       "</table>\n",
       "</div>"
      ],
      "text/plain": [
       "   Air temperature [K]  Process temperature [K]  Rotational speed [rpm]  \\\n",
       "0                298.1                    308.6                    1551   \n",
       "1                298.2                    308.7                    1408   \n",
       "2                298.1                    308.5                    1498   \n",
       "3                298.2                    308.6                    1433   \n",
       "4                298.2                    308.7                    1408   \n",
       "\n",
       "   Torque [Nm]  Tool wear [min]  Target  Failure Type  \\\n",
       "0         42.8                0       0             0   \n",
       "1         46.3                3       0             0   \n",
       "2         49.4                5       0             0   \n",
       "3         39.5                7       0             0   \n",
       "4         40.0                9       0             0   \n",
       "\n",
       "   Difference of temperature [K]  Power [W]  Overstrain  Type_H  Type_L  \\\n",
       "0                           10.5  6970.1940         0.0       0       0   \n",
       "1                           10.5  6844.9920       138.9       0       1   \n",
       "2                           10.4  7770.1260       247.0       0       1   \n",
       "3                           10.4  5943.3675       276.5       0       1   \n",
       "4                           10.5  5913.6000       360.0       0       1   \n",
       "\n",
       "   Type_M  \n",
       "0       1  \n",
       "1       0  \n",
       "2       0  \n",
       "3       0  \n",
       "4       0  "
      ]
     },
     "execution_count": 34,
     "metadata": {},
     "output_type": "execute_result"
    }
   ],
   "source": [
    "df2=df1.copy()\n",
    "df2=pd.get_dummies(data=df,columns=['Type'])\n",
    "df2['Failure Type']=df2['Failure Type'].replace({'No Failure':0,'Heat Dissipation Failure':1,'Power Failure':2,'Overstrain Failure':3,'Tool Wear Failure':4})\n",
    "df2.head()"
   ]
  },
  {
   "cell_type": "code",
   "execution_count": 35,
   "id": "72a3537d",
   "metadata": {},
   "outputs": [],
   "source": [
    "X=df2.drop(['Target','Failure Type'],axis=1)\n",
    "y1=df2['Target']\n",
    "y2=df2['Failure Type']"
   ]
  },
  {
   "cell_type": "markdown",
   "id": "d362cf4e",
   "metadata": {},
   "source": [
    "- Nous allons prédire si une machine tombe en panne:classifiaction binaire et le type de panne: classification multiclasse"
   ]
  },
  {
   "cell_type": "markdown",
   "id": "1e1e3e26",
   "metadata": {},
   "source": [
    "- Nous allons entraîner 70% de nos données et tester sur les 30% restants"
   ]
  },
  {
   "cell_type": "code",
   "execution_count": 36,
   "id": "911e3f3f",
   "metadata": {},
   "outputs": [],
   "source": [
    "from sklearn.model_selection import train_test_split\n",
    "X_train1,X_test1,y_train1,y_test1=train_test_split(X,y1,test_size=0.3,random_state=0,stratify=y2)\n",
    "X_train2,X_test2,y_train2,y_test2=train_test_split(X,y2,test_size=0.3,random_state=0,stratify=y2)"
   ]
  },
  {
   "cell_type": "markdown",
   "id": "ccbf6f14",
   "metadata": {},
   "source": [
    "## Building the models"
   ]
  },
  {
   "cell_type": "code",
   "execution_count": 37,
   "id": "9a3058b9",
   "metadata": {},
   "outputs": [],
   "source": [
    "from sklearn.linear_model import LogisticRegression\n",
    "from sklearn.ensemble import RandomForestClassifier\n",
    "from sklearn.svm import SVC\n",
    "from sklearn.pipeline import make_pipeline\n",
    "from sklearn.metrics import *\n",
    "from sklearn.preprocessing import PolynomialFeatures"
   ]
  },
  {
   "cell_type": "code",
   "execution_count": 38,
   "id": "8daad1eb",
   "metadata": {},
   "outputs": [],
   "source": [
    "def evaluation1(model,X_train,y_train,X_test,y_test):\n",
    "    model.fit(X_train,y_train)\n",
    "    y_pred_train=model.predict(X_train)\n",
    "    y_pred_test=model.predict(X_test)\n",
    "    print('rapport de classification pour le train set:')\n",
    "    print(classification_report(y_train,y_pred_train))\n",
    "    print('rapport de classification pour le test set:')\n",
    "    print(classification_report(y_test,y_pred_test))\n",
    "    sns.heatmap(confusion_matrix(y_test,y_pred_test),xticklabels=['No Failure','Failure'],yticklabels=['No Failure','Failure'],annot=True,cmap='Blues',cbar=False,fmt='d')"
   ]
  },
  {
   "cell_type": "code",
   "execution_count": 39,
   "id": "896a3d5e",
   "metadata": {},
   "outputs": [],
   "source": [
    "def evaluation2(model,X_train,y_train,X_test,y_test):\n",
    "    model.fit(X_train,y_train)\n",
    "    y_pred_train=model.predict(X_train)\n",
    "    y_pred_test=model.predict(X_test)\n",
    "    print('rapport de classification pour le train set:')\n",
    "    print(classification_report(y_train,y_pred_train))\n",
    "    print('rapport de classification pour le test set:')\n",
    "    print(classification_report(y_test,y_pred_test))\n",
    "    print('matrice de confusion:')\n",
    "    sns.heatmap(confusion_matrix(y_test,y_pred_test),xticklabels=['No Failure','Heat Dissipation Failure','Power Failure','Overstrain Failure','Tool Wear Failure'],yticklabels=['No Failure','Heat Dissipation Failure','Power Failure','Overstrain Failure','Tool Wear Failure'],annot=True,cmap='Blues',cbar=False,fmt='d')"
   ]
  },
  {
   "cell_type": "markdown",
   "id": "6bd9581b",
   "metadata": {},
   "source": [
    "### SVM"
   ]
  },
  {
   "cell_type": "markdown",
   "id": "52a59101",
   "metadata": {},
   "source": [
    "- On doit normaliser tout d'abord les variables quantitatives."
   ]
  },
  {
   "cell_type": "code",
   "execution_count": 40,
   "id": "b502028d",
   "metadata": {},
   "outputs": [],
   "source": [
    "from sklearn.preprocessing import StandardScaler\n",
    "from sklearn.compose import make_column_transformer\n",
    "col_tr=make_column_transformer((StandardScaler(),list3),remainder='passthrough')"
   ]
  },
  {
   "cell_type": "code",
   "execution_count": 41,
   "id": "6729f63e",
   "metadata": {},
   "outputs": [],
   "source": [
    "pipe1=make_pipeline(col_tr,PolynomialFeatures(3),SVC(random_state=0))"
   ]
  },
  {
   "cell_type": "code",
   "execution_count": 42,
   "id": "6d893396",
   "metadata": {},
   "outputs": [
    {
     "name": "stdout",
     "output_type": "stream",
     "text": [
      "rapport de classification pour le train set:\n",
      "              precision    recall  f1-score   support\n",
      "\n",
      "           0       0.98      1.00      0.99      6750\n",
      "           1       0.83      0.29      0.43       231\n",
      "\n",
      "    accuracy                           0.97      6981\n",
      "   macro avg       0.90      0.64      0.71      6981\n",
      "weighted avg       0.97      0.97      0.97      6981\n",
      "\n",
      "rapport de classification pour le test set:\n",
      "              precision    recall  f1-score   support\n",
      "\n",
      "           0       0.98      1.00      0.99      2893\n",
      "           1       0.84      0.32      0.47        99\n",
      "\n",
      "    accuracy                           0.98      2992\n",
      "   macro avg       0.91      0.66      0.73      2992\n",
      "weighted avg       0.97      0.98      0.97      2992\n",
      "\n"
     ]
    },
    {
     "data": {
      "image/png": "[encoded data removed]",
      "text/plain": [
       "<Figure size 640x480 with 1 Axes>"
      ]
     },
     "metadata": {},
     "output_type": "display_data"
    }
   ],
   "source": [
    "evaluation1(pipe1,X_train1,y_train1,X_test1,y_test1)"
   ]
  },
  {
   "cell_type": "code",
   "execution_count": 47,
   "id": "086c43ef",
   "metadata": {},
   "outputs": [
    {
     "name": "stdout",
     "output_type": "stream",
     "text": [
      "rapport de classification pour le train set:\n",
      "              precision    recall  f1-score   support\n",
      "\n",
      "           0       0.98      1.00      0.99      6750\n",
      "           1       0.00      0.00      0.00        78\n",
      "           2       0.97      0.44      0.60        66\n",
      "           3       0.69      0.82      0.75        55\n",
      "           4       0.00      0.00      0.00        32\n",
      "\n",
      "    accuracy                           0.98      6981\n",
      "   macro avg       0.53      0.45      0.47      6981\n",
      "weighted avg       0.96      0.98      0.97      6981\n",
      "\n",
      "rapport de classification pour le test set:\n",
      "              precision    recall  f1-score   support\n",
      "\n",
      "           0       0.98      1.00      0.99      2893\n",
      "           1       0.00      0.00      0.00        34\n",
      "           2       0.77      0.34      0.48        29\n",
      "           3       0.63      0.74      0.68        23\n",
      "           4       0.00      0.00      0.00        13\n",
      "\n",
      "    accuracy                           0.97      2992\n",
      "   macro avg       0.48      0.42      0.43      2992\n",
      "weighted avg       0.96      0.97      0.97      2992\n",
      "\n",
      "matrice de confusion:\n"
     ]
    },
    {
     "name": "stderr",
     "output_type": "stream",
     "text": [
      "C:\\Users\\user\\anaconda3\\envs\\tf_2.11\\lib\\site-packages\\sklearn\\metrics\\_classification.py:1344: UndefinedMetricWarning: Precision and F-score are ill-defined and being set to 0.0 in labels with no predicted samples. Use `zero_division` parameter to control this behavior.\n",
      "  _warn_prf(average, modifier, msg_start, len(result))\n",
      "C:\\Users\\user\\anaconda3\\envs\\tf_2.11\\lib\\site-packages\\sklearn\\metrics\\_classification.py:1344: UndefinedMetricWarning: Precision and F-score are ill-defined and being set to 0.0 in labels with no predicted samples. Use `zero_division` parameter to control this behavior.\n",
      "  _warn_prf(average, modifier, msg_start, len(result))\n",
      "C:\\Users\\user\\anaconda3\\envs\\tf_2.11\\lib\\site-packages\\sklearn\\metrics\\_classification.py:1344: UndefinedMetricWarning: Precision and F-score are ill-defined and being set to 0.0 in labels with no predicted samples. Use `zero_division` parameter to control this behavior.\n",
      "  _warn_prf(average, modifier, msg_start, len(result))\n",
      "C:\\Users\\user\\anaconda3\\envs\\tf_2.11\\lib\\site-packages\\sklearn\\metrics\\_classification.py:1344: UndefinedMetricWarning: Precision and F-score are ill-defined and being set to 0.0 in labels with no predicted samples. Use `zero_division` parameter to control this behavior.\n",
      "  _warn_prf(average, modifier, msg_start, len(result))\n",
      "C:\\Users\\user\\anaconda3\\envs\\tf_2.11\\lib\\site-packages\\sklearn\\metrics\\_classification.py:1344: UndefinedMetricWarning: Precision and F-score are ill-defined and being set to 0.0 in labels with no predicted samples. Use `zero_division` parameter to control this behavior.\n",
      "  _warn_prf(average, modifier, msg_start, len(result))\n",
      "C:\\Users\\user\\anaconda3\\envs\\tf_2.11\\lib\\site-packages\\sklearn\\metrics\\_classification.py:1344: UndefinedMetricWarning: Precision and F-score are ill-defined and being set to 0.0 in labels with no predicted samples. Use `zero_division` parameter to control this behavior.\n",
      "  _warn_prf(average, modifier, msg_start, len(result))\n"
     ]
    },
    {
     "data": {
      "image/png": "[encoded data removed]",
      "text/plain": [
       "<Figure size 640x480 with 1 Axes>"
      ]
     },
     "metadata": {},
     "output_type": "display_data"
    }
   ],
   "source": [
    "evaluation2(pipe1,X_train2,y_train2,X_test2,y_test2)"
   ]
  },
  {
   "cell_type": "markdown",
   "id": "8ec6cc53",
   "metadata": {},
   "source": [
    "- Pour la classification binaire on a obtenu un recall égale à 0.29 càd on a pu identifier seulement 29% des pannes.\n",
    "- Pour la classification multiclasse on a un f1 score égale à 0 pour les pannes à cause d'une dissipation thermique et à cause de l'usure des outils donc le modèle n'a prédit aucune panne de ces types et on un recall égale à 34% pour la panne à cause de la puissance et égale à 74% pour la panne à cause du surmenage "
   ]
  },
  {
   "cell_type": "markdown",
   "id": "a898b8c7",
   "metadata": {},
   "source": [
    "### Random Forest"
   ]
  },
  {
   "cell_type": "code",
   "execution_count": 44,
   "id": "68c1b9c6",
   "metadata": {},
   "outputs": [],
   "source": [
    "pipe2=make_pipeline(PolynomialFeatures(3),RandomForestClassifier(random_state=0))"
   ]
  },
  {
   "cell_type": "code",
   "execution_count": 45,
   "id": "d762f1ce",
   "metadata": {},
   "outputs": [
    {
     "name": "stdout",
     "output_type": "stream",
     "text": [
      "rapport de classification pour le train set:\n",
      "              precision    recall  f1-score   support\n",
      "\n",
      "           0       1.00      1.00      1.00      6750\n",
      "           1       1.00      1.00      1.00       231\n",
      "\n",
      "    accuracy                           1.00      6981\n",
      "   macro avg       1.00      1.00      1.00      6981\n",
      "weighted avg       1.00      1.00      1.00      6981\n",
      "\n",
      "rapport de classification pour le test set:\n",
      "              precision    recall  f1-score   support\n",
      "\n",
      "           0       1.00      1.00      1.00      2893\n",
      "           1       0.97      0.88      0.92        99\n",
      "\n",
      "    accuracy                           0.99      2992\n",
      "   macro avg       0.98      0.94      0.96      2992\n",
      "weighted avg       0.99      0.99      0.99      2992\n",
      "\n"
     ]
    },
    {
     "data": {
      "image/png": "[encoded data removed]",
      "text/plain": [
       "<Figure size 640x480 with 1 Axes>"
      ]
     },
     "metadata": {},
     "output_type": "display_data"
    }
   ],
   "source": [
    "evaluation1(pipe2,X_train1,y_train1,X_test1,y_test1)"
   ]
  },
  {
   "cell_type": "code",
   "execution_count": 46,
   "id": "f7af6e12",
   "metadata": {},
   "outputs": [
    {
     "name": "stdout",
     "output_type": "stream",
     "text": [
      "rapport de classification pour le train set:\n",
      "              precision    recall  f1-score   support\n",
      "\n",
      "           0       1.00      1.00      1.00      6750\n",
      "           1       1.00      1.00      1.00        78\n",
      "           2       1.00      1.00      1.00        66\n",
      "           3       1.00      1.00      1.00        55\n",
      "           4       1.00      1.00      1.00        32\n",
      "\n",
      "    accuracy                           1.00      6981\n",
      "   macro avg       1.00      1.00      1.00      6981\n",
      "weighted avg       1.00      1.00      1.00      6981\n",
      "\n",
      "rapport de classification pour le test set:\n",
      "              precision    recall  f1-score   support\n",
      "\n",
      "           0       1.00      1.00      1.00      2893\n",
      "           1       0.94      0.91      0.93        34\n",
      "           2       0.96      0.93      0.95        29\n",
      "           3       0.81      0.96      0.88        23\n",
      "           4       1.00      0.08      0.14        13\n",
      "\n",
      "    accuracy                           0.99      2992\n",
      "   macro avg       0.94      0.78      0.78      2992\n",
      "weighted avg       0.99      0.99      0.99      2992\n",
      "\n",
      "matrice de confusion:\n"
     ]
    },
    {
     "data": {
      "image/png": "[encoded data removed]",
      "text/plain": [
       "<Figure size 640x480 with 1 Axes>"
      ]
     },
     "metadata": {},
     "output_type": "display_data"
    }
   ],
   "source": [
    "evaluation2(pipe2,X_train2,y_train2,X_test2,y_test2)"
   ]
  },
  {
   "cell_type": "markdown",
   "id": "142d1368",
   "metadata": {},
   "source": [
    "- Random Forest a la meilleure perfermance.Dans la tâche de classification binaire le score f1 pour cet algorithme est égale à 0.92 et le recall est égale à 0.88 càd dans 88% des cas on a pu identifier les pannes.La précision est égale 0.97 càd seulement dans 3% des cas ou la machine n'a pas de panne on a prédit qu'elle a une défaillance.\n",
    "- Pour la tâche de classification multiclasse on a un score f1 et un recall supérieur à 0.9 pour tous les types de pannes seulement pour la panne à cause de l'usure de la machine.Pour ce type de défaillance on a un recall 0.8.Parmi les 13 machines qui ont eu ce type de panne on a pu identifier une seule machine,on a prédit que 10 machines n'ont pas une défaillance et 2 machines ont une panne à cause de surrmenage.\n",
    "- Essayons maintenant d'équilbrer notre dataset en utilisant la technique d'oversampling with SMOTE et voyons si on va obtenir de meilleurs performances pour ces algorithmes."
   ]
  },
  {
   "cell_type": "markdown",
   "id": "1c1dada6",
   "metadata": {},
   "source": [
    "## Oversampling with SMOTE"
   ]
  },
  {
   "cell_type": "code",
   "execution_count": 49,
   "id": "b805273c",
   "metadata": {},
   "outputs": [
    {
     "data": {
      "text/plain": [
       "1    6750\n",
       "0    6750\n",
       "Name: Target, dtype: int64"
      ]
     },
     "execution_count": 49,
     "metadata": {},
     "output_type": "execute_result"
    }
   ],
   "source": [
    "from imblearn.over_sampling import SMOTE\n",
    "smote=SMOTE(random_state=0)\n",
    "X_sm1,y_sm1=smote.fit_resample(X_train1,y_train1)\n",
    "y_sm1.value_counts()"
   ]
  },
  {
   "cell_type": "code",
   "execution_count": 50,
   "id": "8f6e1823",
   "metadata": {},
   "outputs": [
    {
     "data": {
      "text/plain": [
       "3    6750\n",
       "0    6750\n",
       "1    6750\n",
       "2    6750\n",
       "4    6750\n",
       "Name: Failure Type, dtype: int64"
      ]
     },
     "execution_count": 50,
     "metadata": {},
     "output_type": "execute_result"
    }
   ],
   "source": [
    "X_sm2,y_sm2=smote.fit_resample(X_train2,y_train2)\n",
    "y_sm2.value_counts()"
   ]
  },
  {
   "cell_type": "markdown",
   "id": "d0670243",
   "metadata": {},
   "source": [
    "### SVM "
   ]
  },
  {
   "cell_type": "code",
   "execution_count": 51,
   "id": "efde704a",
   "metadata": {},
   "outputs": [
    {
     "name": "stdout",
     "output_type": "stream",
     "text": [
      "rapport de classification pour le train set:\n",
      "              precision    recall  f1-score   support\n",
      "\n",
      "           0       0.73      0.91      0.81      6750\n",
      "           1       0.88      0.66      0.76      6750\n",
      "\n",
      "    accuracy                           0.79     13500\n",
      "   macro avg       0.80      0.79      0.78     13500\n",
      "weighted avg       0.80      0.79      0.78     13500\n",
      "\n",
      "rapport de classification pour le test set:\n",
      "              precision    recall  f1-score   support\n",
      "\n",
      "           0       0.99      0.92      0.95      2893\n",
      "           1       0.20      0.63      0.31        99\n",
      "\n",
      "    accuracy                           0.91      2992\n",
      "   macro avg       0.59      0.77      0.63      2992\n",
      "weighted avg       0.96      0.91      0.93      2992\n",
      "\n"
     ]
    },
    {
     "data": {
      "image/png": "[encoded data removed]",
      "text/plain": [
       "<Figure size 640x480 with 1 Axes>"
      ]
     },
     "metadata": {},
     "output_type": "display_data"
    }
   ],
   "source": [
    "evaluation1(pipe1,X_sm1,y_sm1,X_test1,y_test1)"
   ]
  },
  {
   "cell_type": "markdown",
   "id": "b4144651",
   "metadata": {},
   "source": [
    "- Pour la classification binaire,on remarque que le recall de l'algorithme SVM a amélioré.Il a augmenté de 0.29 à 0.63 alors que la précision a diminué de 0.84 à 0.20 et par suite le f1 score a diminué de 0.47 à 0.31"
   ]
  },
  {
   "cell_type": "markdown",
   "id": "d916ddf6",
   "metadata": {},
   "source": [
    "### Random Forest"
   ]
  },
  {
   "cell_type": "code",
   "execution_count": 54,
   "id": "377b1e67",
   "metadata": {},
   "outputs": [
    {
     "name": "stdout",
     "output_type": "stream",
     "text": [
      "rapport de classification pour le train set:\n",
      "              precision    recall  f1-score   support\n",
      "\n",
      "           0       1.00      1.00      1.00      6750\n",
      "           1       1.00      1.00      1.00      6750\n",
      "\n",
      "    accuracy                           1.00     13500\n",
      "   macro avg       1.00      1.00      1.00     13500\n",
      "weighted avg       1.00      1.00      1.00     13500\n",
      "\n",
      "rapport de classification pour le test set:\n",
      "              precision    recall  f1-score   support\n",
      "\n",
      "           0       1.00      0.99      0.99      2893\n",
      "           1       0.72      0.89      0.79        99\n",
      "\n",
      "    accuracy                           0.98      2992\n",
      "   macro avg       0.86      0.94      0.89      2992\n",
      "weighted avg       0.99      0.98      0.99      2992\n",
      "\n"
     ]
    },
    {
     "data": {
      "image/png": "[encoded data removed]",
      "text/plain": [
       "<Figure size 640x480 with 1 Axes>"
      ]
     },
     "metadata": {},
     "output_type": "display_data"
    }
   ],
   "source": [
    "evaluation1(pipe2,X_sm1,y_sm1,X_test1,y_test1)"
   ]
  },
  {
   "cell_type": "code",
   "execution_count": 55,
   "id": "562bcdd6",
   "metadata": {},
   "outputs": [
    {
     "name": "stdout",
     "output_type": "stream",
     "text": [
      "rapport de classification pour le train set:\n",
      "              precision    recall  f1-score   support\n",
      "\n",
      "           0       1.00      1.00      1.00      6750\n",
      "           1       1.00      1.00      1.00      6750\n",
      "           2       1.00      1.00      1.00      6750\n",
      "           3       1.00      1.00      1.00      6750\n",
      "           4       1.00      1.00      1.00      6750\n",
      "\n",
      "    accuracy                           1.00     33750\n",
      "   macro avg       1.00      1.00      1.00     33750\n",
      "weighted avg       1.00      1.00      1.00     33750\n",
      "\n",
      "rapport de classification pour le test set:\n",
      "              precision    recall  f1-score   support\n",
      "\n",
      "           0       1.00      0.99      0.99      2893\n",
      "           1       0.92      0.97      0.94        34\n",
      "           2       0.91      1.00      0.95        29\n",
      "           3       0.95      0.78      0.86        23\n",
      "           4       0.08      0.15      0.11        13\n",
      "\n",
      "    accuracy                           0.99      2992\n",
      "   macro avg       0.77      0.78      0.77      2992\n",
      "weighted avg       0.99      0.99      0.99      2992\n",
      "\n",
      "matrice de confusion:\n"
     ]
    },
    {
     "data": {
      "image/png": "[encoded data removed]",
      "text/plain": [
       "<Figure size 640x480 with 1 Axes>"
      ]
     },
     "metadata": {},
     "output_type": "display_data"
    }
   ],
   "source": [
    "evaluation2(pipe2,X_sm2,y_sm2,X_test2,y_test2)"
   ]
  },
  {
   "cell_type": "markdown",
   "id": "27ecf27a",
   "metadata": {},
   "source": [
    "- Pour le Random Forest, l'oversampling with smote a diminué la précision et le recall reste presque le même ainsi le f1 score a diminué. Donc, le meilleur modèle pour les deux tâches est le Random Forest avant d'appliquer l'oversampling with smote."
   ]
  },
  {
   "cell_type": "markdown",
   "id": "8d639bc7",
   "metadata": {},
   "source": [
    "## Preparing a model for deployment"
   ]
  },
  {
   "cell_type": "code",
   "execution_count": 80,
   "id": "fdfe31f5",
   "metadata": {},
   "outputs": [
    {
     "name": "stdout",
     "output_type": "stream",
     "text": [
      "rapport de classification pour le train set:\n",
      "              precision    recall  f1-score   support\n",
      "\n",
      "           0       1.00      1.00      1.00      6750\n",
      "           1       1.00      1.00      1.00       231\n",
      "\n",
      "    accuracy                           1.00      6981\n",
      "   macro avg       1.00      1.00      1.00      6981\n",
      "weighted avg       1.00      1.00      1.00      6981\n",
      "\n",
      "rapport de classification pour le test set:\n",
      "              precision    recall  f1-score   support\n",
      "\n",
      "           0       0.99      1.00      1.00      2893\n",
      "           1       0.95      0.75      0.84        99\n",
      "\n",
      "    accuracy                           0.99      2992\n",
      "   macro avg       0.97      0.87      0.92      2992\n",
      "weighted avg       0.99      0.99      0.99      2992\n",
      "\n"
     ]
    },
    {
     "data": {
      "image/png": "[encoded data removed]",
      "text/plain": [
       "<Figure size 640x480 with 1 Axes>"
      ]
     },
     "metadata": {},
     "output_type": "display_data"
    }
   ],
   "source": [
    "from sklearn.preprocessing import OneHotEncoder\n",
    "df3=df.copy()\n",
    "df3=df3.drop(['Difference of temperature [K]','Power [W]','Overstrain'],axis=1)\n",
    "df3['Failure Type']=df3['Failure Type'].replace({'No Failure':0,'Heat Dissipation Failure':1,'Power Failure':2,'Overstrain Failure':3,'Tool Wear Failure':4})\n",
    "Xn=df3.drop(['Target','Failure Type'],axis=1)\n",
    "y1n=df3['Target']\n",
    "y2n=df3['Failure Type']\n",
    "X_train1n,X_test1n,y_train1n,y_test1n=train_test_split(Xn,y1n,test_size=0.3,random_state=0,stratify=y2n)\n",
    "X_train2n,X_test2n,y_train2n,y_test2n=train_test_split(Xn,y2n,test_size=0.3,random_state=0,stratify=y2n)\n",
    "ohe=OneHotEncoder()\n",
    "ohe.fit(X[['Type']])\n",
    "col_tr2=make_column_transformer((OneHotEncoder(categories=ohe.categories_),['Type']),remainder='passthrough')\n",
    "pipe3=make_pipeline(col_tr2,PolynomialFeatures(3),RandomForestClassifier(random_state=0))\n",
    "evaluation1(pipe3,X_train1n,y_train1n,X_test1n,y_test1n)"
   ]
  },
  {
   "cell_type": "code",
   "execution_count": 81,
   "id": "ff28366d",
   "metadata": {},
   "outputs": [
    {
     "name": "stdout",
     "output_type": "stream",
     "text": [
      "rapport de classification pour le train set:\n",
      "              precision    recall  f1-score   support\n",
      "\n",
      "           0       1.00      1.00      1.00      6750\n",
      "           1       1.00      1.00      1.00        78\n",
      "           2       1.00      1.00      1.00        66\n",
      "           3       1.00      1.00      1.00        55\n",
      "           4       1.00      1.00      1.00        32\n",
      "\n",
      "    accuracy                           1.00      6981\n",
      "   macro avg       1.00      1.00      1.00      6981\n",
      "weighted avg       1.00      1.00      1.00      6981\n",
      "\n",
      "rapport de classification pour le test set:\n",
      "              precision    recall  f1-score   support\n",
      "\n",
      "           0       0.99      1.00      0.99      2893\n",
      "           1       0.89      0.50      0.64        34\n",
      "           2       0.96      0.90      0.93        29\n",
      "           3       0.81      0.96      0.88        23\n",
      "           4       0.50      0.08      0.13        13\n",
      "\n",
      "    accuracy                           0.99      2992\n",
      "   macro avg       0.83      0.69      0.72      2992\n",
      "weighted avg       0.99      0.99      0.99      2992\n",
      "\n",
      "matrice de confusion:\n"
     ]
    },
    {
     "data": {
      "image/png": "[encoded data removed]",
      "text/plain": [
       "<Figure size 640x480 with 1 Axes>"
      ]
     },
     "metadata": {},
     "output_type": "display_data"
    }
   ],
   "source": [
    "evaluation2(pipe3,X_train2n,y_train2n,X_test2n,y_test2n)"
   ]
  },
  {
   "cell_type": "code",
   "execution_count": 95,
   "id": "a239f8a7",
   "metadata": {},
   "outputs": [],
   "source": [
    "df3.reset_index(drop=True)\n",
    "df3.to_csv('cleaned_pred_maintenance_data.csv')"
   ]
  },
  {
   "cell_type": "code",
   "execution_count": 86,
   "id": "d1b97884",
   "metadata": {},
   "outputs": [],
   "source": [
    "pipe4=pipe3.fit(X_train2n,y_train2n)"
   ]
  },
  {
   "cell_type": "code",
   "execution_count": 87,
   "id": "c0cb4bbc",
   "metadata": {},
   "outputs": [],
   "source": [
    "import pickle\n",
    "pickle.dump(pipe4,open('pred_maintenance.pkl','wb'))"
   ]
  },
  {
   "cell_type": "code",
   "execution_count": 88,
   "id": "7b7ec25e",
   "metadata": {},
   "outputs": [],
   "source": [
    "loaded_model=pickle.load(open('pred_maintenance.pkl','rb'))"
   ]
  },
  {
   "cell_type": "code",
   "execution_count": 93,
   "id": "5c24732c",
   "metadata": {},
   "outputs": [],
   "source": [
    "pred=loaded_model.predict(pd.DataFrame(columns=['Type','Air temperature [K]','Process temperature [K]','Rotational speed [rpm]','Torque [Nm]','Tool wear [min]'],data=np.array(['L',298.9,309.1,2861,4.6,143]).reshape(1,-1)))"
   ]
  },
  {
   "cell_type": "code",
   "execution_count": 94,
   "id": "82dbf856",
   "metadata": {},
   "outputs": [
    {
     "name": "stdout",
     "output_type": "stream",
     "text": [
      "Power Failure\n"
     ]
    }
   ],
   "source": [
    "if pred==0:\n",
    "    print('No Failure')\n",
    "elif pred==1:\n",
    "    print('Heat Dissipation Failure')\n",
    "elif pred==2:\n",
    "    print('Power Failure')\n",
    "elif pred==3:\n",
    "    print('Overstrain Failure')\n",
    "else:\n",
    "    print('Tool Wear Failure')"
   ]
  }
 ],
 "metadata": {
  "kernelspec": {
   "display_name": "Python 3 (ipykernel)",
   "language": "python",
   "name": "python3"
  },
  "language_info": {
   "codemirror_mode": {
    "name": "ipython",
    "version": 3
   },
   "file_extension": ".py",
   "mimetype": "text/x-python",
   "name": "python",
   "nbconvert_exporter": "python",
   "pygments_lexer": "ipython3",
   "version": "3.10.0"
  }
 },
 "nbformat": 4,
 "nbformat_minor": 5
}
